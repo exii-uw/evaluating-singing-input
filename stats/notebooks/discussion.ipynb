{
 "cells": [
  {
   "cell_type": "markdown",
   "metadata": {},
   "source": [
    "# Discussion section analysis"
   ]
  },
  {
   "cell_type": "code",
   "execution_count": 1,
   "metadata": {},
   "outputs": [],
   "source": [
    "import numpy as np\n",
    "import pandas as pd\n",
    "import math\n",
    "import seaborn as sns\n",
    "import matplotlib.pyplot as plt\n",
    "import rpy2\n",
    "\n",
    "%load_ext rpy2.ipython\n",
    "%matplotlib inline"
   ]
  },
  {
   "cell_type": "code",
   "execution_count": 2,
   "metadata": {},
   "outputs": [],
   "source": [
    "reg_palette = sns.color_palette(\"colorblind\", 5)[2:]\n",
    "sns.set_palette(reg_palette)\n",
    "sns.set_style(\"whitegrid\")"
   ]
  },
  {
   "cell_type": "markdown",
   "metadata": {},
   "source": [
    "## Changing granularity"
   ]
  },
  {
   "cell_type": "code",
   "execution_count": 3,
   "metadata": {},
   "outputs": [
    {
     "data": {
      "text/html": [
       "<div>\n",
       "<style scoped>\n",
       "    .dataframe tbody tr th:only-of-type {\n",
       "        vertical-align: middle;\n",
       "    }\n",
       "\n",
       "    .dataframe tbody tr th {\n",
       "        vertical-align: top;\n",
       "    }\n",
       "\n",
       "    .dataframe thead th {\n",
       "        text-align: right;\n",
       "    }\n",
       "</style>\n",
       "<table border=\"1\" class=\"dataframe\">\n",
       "  <thead>\n",
       "    <tr style=\"text-align: right;\">\n",
       "      <th></th>\n",
       "      <th>User ID</th>\n",
       "      <th>Technique</th>\n",
       "      <th>Skill</th>\n",
       "      <th>Background</th>\n",
       "      <th>Training</th>\n",
       "      <th>Granularity</th>\n",
       "      <th>Error rate</th>\n",
       "    </tr>\n",
       "  </thead>\n",
       "  <tbody>\n",
       "    <tr>\n",
       "      <th>0</th>\n",
       "      <td>4g4XbueBXPakEKcHYSqqot76sGg1</td>\n",
       "      <td>Pitch</td>\n",
       "      <td>Expert</td>\n",
       "      <td>No-Music</td>\n",
       "      <td>Untrained</td>\n",
       "      <td>Error rate 12</td>\n",
       "      <td>7.692308</td>\n",
       "    </tr>\n",
       "    <tr>\n",
       "      <th>1</th>\n",
       "      <td>4g4XbueBXPakEKcHYSqqot76sGg1</td>\n",
       "      <td>Pitch</td>\n",
       "      <td>Expert</td>\n",
       "      <td>No-Music</td>\n",
       "      <td>Untrained</td>\n",
       "      <td>Error rate 7</td>\n",
       "      <td>7.692308</td>\n",
       "    </tr>\n",
       "    <tr>\n",
       "      <th>2</th>\n",
       "      <td>4g4XbueBXPakEKcHYSqqot76sGg1</td>\n",
       "      <td>Pitch</td>\n",
       "      <td>Expert</td>\n",
       "      <td>No-Music</td>\n",
       "      <td>Untrained</td>\n",
       "      <td>Error rate 3</td>\n",
       "      <td>0.000000</td>\n",
       "    </tr>\n",
       "    <tr>\n",
       "      <th>3</th>\n",
       "      <td>4g4XbueBXPakEKcHYSqqot76sGg1</td>\n",
       "      <td>Pitch</td>\n",
       "      <td>Expert</td>\n",
       "      <td>Music</td>\n",
       "      <td>Untrained</td>\n",
       "      <td>Error rate 12</td>\n",
       "      <td>0.000000</td>\n",
       "    </tr>\n",
       "    <tr>\n",
       "      <th>4</th>\n",
       "      <td>4g4XbueBXPakEKcHYSqqot76sGg1</td>\n",
       "      <td>Pitch</td>\n",
       "      <td>Expert</td>\n",
       "      <td>Music</td>\n",
       "      <td>Untrained</td>\n",
       "      <td>Error rate 7</td>\n",
       "      <td>0.000000</td>\n",
       "    </tr>\n",
       "    <tr>\n",
       "      <th>...</th>\n",
       "      <td>...</td>\n",
       "      <td>...</td>\n",
       "      <td>...</td>\n",
       "      <td>...</td>\n",
       "      <td>...</td>\n",
       "      <td>...</td>\n",
       "      <td>...</td>\n",
       "    </tr>\n",
       "    <tr>\n",
       "      <th>751</th>\n",
       "      <td>RIneOAfWA6POfHcHOoYEDG1BF6T2</td>\n",
       "      <td>Melody</td>\n",
       "      <td>Expert</td>\n",
       "      <td>No-Music</td>\n",
       "      <td>Trained</td>\n",
       "      <td>Error rate 7</td>\n",
       "      <td>0.000000</td>\n",
       "    </tr>\n",
       "    <tr>\n",
       "      <th>752</th>\n",
       "      <td>RIneOAfWA6POfHcHOoYEDG1BF6T2</td>\n",
       "      <td>Melody</td>\n",
       "      <td>Expert</td>\n",
       "      <td>No-Music</td>\n",
       "      <td>Trained</td>\n",
       "      <td>Error rate 3</td>\n",
       "      <td>0.000000</td>\n",
       "    </tr>\n",
       "    <tr>\n",
       "      <th>753</th>\n",
       "      <td>RIneOAfWA6POfHcHOoYEDG1BF6T2</td>\n",
       "      <td>Melody</td>\n",
       "      <td>Expert</td>\n",
       "      <td>Music</td>\n",
       "      <td>Trained</td>\n",
       "      <td>Error rate 12</td>\n",
       "      <td>7.142857</td>\n",
       "    </tr>\n",
       "    <tr>\n",
       "      <th>754</th>\n",
       "      <td>RIneOAfWA6POfHcHOoYEDG1BF6T2</td>\n",
       "      <td>Melody</td>\n",
       "      <td>Expert</td>\n",
       "      <td>Music</td>\n",
       "      <td>Trained</td>\n",
       "      <td>Error rate 7</td>\n",
       "      <td>7.142857</td>\n",
       "    </tr>\n",
       "    <tr>\n",
       "      <th>755</th>\n",
       "      <td>RIneOAfWA6POfHcHOoYEDG1BF6T2</td>\n",
       "      <td>Melody</td>\n",
       "      <td>Expert</td>\n",
       "      <td>Music</td>\n",
       "      <td>Trained</td>\n",
       "      <td>Error rate 3</td>\n",
       "      <td>0.000000</td>\n",
       "    </tr>\n",
       "  </tbody>\n",
       "</table>\n",
       "<p>756 rows × 7 columns</p>\n",
       "</div>"
      ],
      "text/plain": [
       "                          User ID Technique   Skill Background   Training  \\\n",
       "0    4g4XbueBXPakEKcHYSqqot76sGg1     Pitch  Expert   No-Music  Untrained   \n",
       "1    4g4XbueBXPakEKcHYSqqot76sGg1     Pitch  Expert   No-Music  Untrained   \n",
       "2    4g4XbueBXPakEKcHYSqqot76sGg1     Pitch  Expert   No-Music  Untrained   \n",
       "3    4g4XbueBXPakEKcHYSqqot76sGg1     Pitch  Expert      Music  Untrained   \n",
       "4    4g4XbueBXPakEKcHYSqqot76sGg1     Pitch  Expert      Music  Untrained   \n",
       "..                            ...       ...     ...        ...        ...   \n",
       "751  RIneOAfWA6POfHcHOoYEDG1BF6T2    Melody  Expert   No-Music    Trained   \n",
       "752  RIneOAfWA6POfHcHOoYEDG1BF6T2    Melody  Expert   No-Music    Trained   \n",
       "753  RIneOAfWA6POfHcHOoYEDG1BF6T2    Melody  Expert      Music    Trained   \n",
       "754  RIneOAfWA6POfHcHOoYEDG1BF6T2    Melody  Expert      Music    Trained   \n",
       "755  RIneOAfWA6POfHcHOoYEDG1BF6T2    Melody  Expert      Music    Trained   \n",
       "\n",
       "       Granularity  Error rate  \n",
       "0    Error rate 12    7.692308  \n",
       "1     Error rate 7    7.692308  \n",
       "2     Error rate 3    0.000000  \n",
       "3    Error rate 12    0.000000  \n",
       "4     Error rate 7    0.000000  \n",
       "..             ...         ...  \n",
       "751   Error rate 7    0.000000  \n",
       "752   Error rate 3    0.000000  \n",
       "753  Error rate 12    7.142857  \n",
       "754   Error rate 7    7.142857  \n",
       "755   Error rate 3    0.000000  \n",
       "\n",
       "[756 rows x 7 columns]"
      ]
     },
     "execution_count": 3,
     "metadata": {},
     "output_type": "execute_result"
    }
   ],
   "source": [
    "df = pd.read_csv(\"../data/discussion-granularity-error.csv\", index_col=0)\n",
    "df"
   ]
  },
  {
   "cell_type": "code",
   "execution_count": 38,
   "metadata": {},
   "outputs": [],
   "source": [
    "%%R -i df\n",
    "\n",
    "library(ARTool) # art, artlm\n",
    "\n",
    "# Sanitize dataframe column names\n",
    "library(janitor)\n",
    "df <- clean_names(df)\n",
    "\n",
    "df$technique <- factor(df$technique)\n",
    "df$skill <- factor(df$skill)\n",
    "df$background <- factor(df$background)\n",
    "df$training <- factor(df$training)\n",
    "df$granularity <- factor(df$granularity)\n",
    "df$user_id <- factor(df$user_id)"
   ]
  },
  {
   "cell_type": "markdown",
   "metadata": {},
   "source": [
    "### Pitch: Skill X Granularity ANOVA"
   ]
  },
  {
   "cell_type": "code",
   "execution_count": 5,
   "metadata": {},
   "outputs": [
    {
     "name": "stdout",
     "output_type": "stream",
     "text": [
      "Aligned Rank Transform of Factorial Model\n",
      "\n",
      "Call:\n",
      "art(formula = error_rate ~ skill * granularity + Error(user_id/granularity) + \n",
      "    skill, data = pitch_df)\n",
      "\n",
      "Column sums of aligned responses (should all be ~0):\n",
      "            skill       granularity skill:granularity \n",
      "                0                 0                 0 \n",
      "\n",
      "F values of ANOVAs on aligned responses not of interest (should all be ~0):\n",
      "   Min. 1st Qu.  Median    Mean 3rd Qu.    Max. \n",
      "      0       0       0       0       0       0 \n"
     ]
    }
   ],
   "source": [
    "%%R\n",
    "pitch_df <- subset(df, technique == \"Pitch\")\n",
    "pitch_df_art <- art(error_rate ~ skill * granularity + Error(user_id / granularity) + skill, data = pitch_df)\n",
    "summary(pitch_df_art)"
   ]
  },
  {
   "cell_type": "code",
   "execution_count": 6,
   "metadata": {},
   "outputs": [
    {
     "name": "stdout",
     "output_type": "stream",
     "text": [
      "Analysis of Variance of Aligned Rank Transformed Data\n",
      "\n",
      "Table Type: Repeated Measures Analysis of Variance Table (Type I) \n",
      "Model: Repeated Measures (aov)\n",
      "Response: art(error_rate)\n",
      "\n",
      "                    Error Df Df.res F value     Pr(>F) eta.sq.part    \n",
      "1 skill             usr_d  2     18  36.877 4.3034e-07     0.80382 ***\n",
      "2 granularity       usr_:  2     36 115.131 2.2796e-16     0.86480 ***\n",
      "3 skill:granularity usr_:  4     36  27.785 1.4403e-10     0.75534 ***\n",
      "---\n",
      "Signif. codes:   0 ‘***’ 0.001 ‘**’ 0.01 ‘*’ 0.05 ‘.’ 0.1 ‘ ’ 1 \n"
     ]
    }
   ],
   "source": [
    "%%R\n",
    "m = anova(pitch_df_art)\n",
    "m$eta.sq.part = with(m, `Sum Sq`/(`Sum Sq` + `Sum Sq.res`))\n",
    "print(m)"
   ]
  },
  {
   "cell_type": "markdown",
   "metadata": {},
   "source": [
    "#### Pitch post-hoc: Granularity"
   ]
  },
  {
   "cell_type": "code",
   "execution_count": 7,
   "metadata": {},
   "outputs": [
    {
     "name": "stdout",
     "output_type": "stream",
     "text": [
      " contrast                     estimate   SE df t.ratio p.value\n",
      " Error rate 12 - Error rate 3     47.7 3.37 36  14.164  <.0001\n",
      " Error rate 12 - Error rate 7     12.2 3.37 36   3.622  0.0025\n",
      " Error rate 3 - Error rate 7     -35.5 3.37 36 -10.542  <.0001\n",
      "\n",
      "Results are averaged over the levels of: skill \n",
      "P value adjustment: tukey method for comparing a family of 3 estimates \n"
     ]
    }
   ],
   "source": [
    "%%R\n",
    "suppressMessages(art.con(pitch_df_art, ~ granularity, interaction = FALSE))"
   ]
  },
  {
   "cell_type": "code",
   "execution_count": 8,
   "metadata": {},
   "outputs": [
    {
     "data": {
      "text/html": [
       "<div>\n",
       "<style scoped>\n",
       "    .dataframe tbody tr th:only-of-type {\n",
       "        vertical-align: middle;\n",
       "    }\n",
       "\n",
       "    .dataframe tbody tr th {\n",
       "        vertical-align: top;\n",
       "    }\n",
       "\n",
       "    .dataframe thead th {\n",
       "        text-align: right;\n",
       "    }\n",
       "</style>\n",
       "<table border=\"1\" class=\"dataframe\">\n",
       "  <thead>\n",
       "    <tr style=\"text-align: right;\">\n",
       "      <th></th>\n",
       "      <th>Error rate</th>\n",
       "    </tr>\n",
       "    <tr>\n",
       "      <th>Granularity</th>\n",
       "      <th></th>\n",
       "    </tr>\n",
       "  </thead>\n",
       "  <tbody>\n",
       "    <tr>\n",
       "      <th>Error rate 12</th>\n",
       "      <td>34.147698</td>\n",
       "    </tr>\n",
       "    <tr>\n",
       "      <th>Error rate 3</th>\n",
       "      <td>19.801587</td>\n",
       "    </tr>\n",
       "    <tr>\n",
       "      <th>Error rate 7</th>\n",
       "      <td>29.934153</td>\n",
       "    </tr>\n",
       "  </tbody>\n",
       "</table>\n",
       "</div>"
      ],
      "text/plain": [
       "               Error rate\n",
       "Granularity              \n",
       "Error rate 12   34.147698\n",
       "Error rate 3    19.801587\n",
       "Error rate 7    29.934153"
      ]
     },
     "execution_count": 8,
     "metadata": {},
     "output_type": "execute_result"
    }
   ],
   "source": [
    "df[(df[\"Technique\"] == \"Pitch\")].groupby([\"Granularity\"]).mean()"
   ]
  },
  {
   "cell_type": "markdown",
   "metadata": {},
   "source": [
    "#### Pitch post-hoc: Skill X Granularity"
   ]
  },
  {
   "cell_type": "code",
   "execution_count": 9,
   "metadata": {},
   "outputs": [
    {
     "name": "stdout",
     "output_type": "stream",
     "text": [
      " skill_pairwise        granularity_pairwise         estimate   SE df t.ratio\n",
      " Expert - Intermediate Error rate 12 - Error rate 3   -56.07 8.88 36  -6.317\n",
      " Expert - Novice       Error rate 12 - Error rate 3   -84.07 8.51 36  -9.883\n",
      " Intermediate - Novice Error rate 12 - Error rate 3   -27.99 9.14 36  -3.061\n",
      " Expert - Intermediate Error rate 12 - Error rate 7   -21.65 8.88 36  -2.439\n",
      " Expert - Novice       Error rate 12 - Error rate 7   -20.33 8.51 36  -2.390\n",
      " Intermediate - Novice Error rate 12 - Error rate 7     1.32 9.14 36   0.144\n",
      " Expert - Intermediate Error rate 3 - Error rate 7     34.43 8.88 36   3.878\n",
      " Expert - Novice       Error rate 3 - Error rate 7     63.74 8.51 36   7.493\n",
      " Intermediate - Novice Error rate 3 - Error rate 7     29.31 9.14 36   3.205\n",
      " p.value\n",
      "  <.0001\n",
      "  <.0001\n",
      "  0.0042\n",
      "  0.0198\n",
      "  0.0222\n",
      "  0.8864\n",
      "  0.0004\n",
      "  <.0001\n",
      "  0.0028\n",
      "\n"
     ]
    }
   ],
   "source": [
    "%%R\n",
    "suppressMessages(art.con(pitch_df_art, ~ skill * granularity, interaction = TRUE))"
   ]
  },
  {
   "cell_type": "code",
   "execution_count": 10,
   "metadata": {},
   "outputs": [
    {
     "data": {
      "text/html": [
       "<div>\n",
       "<style scoped>\n",
       "    .dataframe tbody tr th:only-of-type {\n",
       "        vertical-align: middle;\n",
       "    }\n",
       "\n",
       "    .dataframe tbody tr th {\n",
       "        vertical-align: top;\n",
       "    }\n",
       "\n",
       "    .dataframe thead th {\n",
       "        text-align: right;\n",
       "    }\n",
       "</style>\n",
       "<table border=\"1\" class=\"dataframe\">\n",
       "  <thead>\n",
       "    <tr style=\"text-align: right;\">\n",
       "      <th></th>\n",
       "      <th></th>\n",
       "      <th>Error rate</th>\n",
       "    </tr>\n",
       "    <tr>\n",
       "      <th>Skill</th>\n",
       "      <th>Granularity</th>\n",
       "      <th></th>\n",
       "    </tr>\n",
       "  </thead>\n",
       "  <tbody>\n",
       "    <tr>\n",
       "      <th rowspan=\"3\" valign=\"top\">Expert</th>\n",
       "      <th>Error rate 12</th>\n",
       "      <td>10.602679</td>\n",
       "    </tr>\n",
       "    <tr>\n",
       "      <th>Error rate 3</th>\n",
       "      <td>6.041667</td>\n",
       "    </tr>\n",
       "    <tr>\n",
       "      <th>Error rate 7</th>\n",
       "      <td>8.762592</td>\n",
       "    </tr>\n",
       "    <tr>\n",
       "      <th rowspan=\"3\" valign=\"top\">Intermediate</th>\n",
       "      <th>Error rate 12</th>\n",
       "      <td>35.805861</td>\n",
       "    </tr>\n",
       "    <tr>\n",
       "      <th>Error rate 3</th>\n",
       "      <td>20.833333</td>\n",
       "    </tr>\n",
       "    <tr>\n",
       "      <th>Error rate 7</th>\n",
       "      <td>29.830586</td>\n",
       "    </tr>\n",
       "    <tr>\n",
       "      <th rowspan=\"3\" valign=\"top\">Novice</th>\n",
       "      <th>Error rate 12</th>\n",
       "      <td>59.635008</td>\n",
       "    </tr>\n",
       "    <tr>\n",
       "      <th>Error rate 3</th>\n",
       "      <td>34.642857</td>\n",
       "    </tr>\n",
       "    <tr>\n",
       "      <th>Error rate 7</th>\n",
       "      <td>54.218995</td>\n",
       "    </tr>\n",
       "  </tbody>\n",
       "</table>\n",
       "</div>"
      ],
      "text/plain": [
       "                            Error rate\n",
       "Skill        Granularity              \n",
       "Expert       Error rate 12   10.602679\n",
       "             Error rate 3     6.041667\n",
       "             Error rate 7     8.762592\n",
       "Intermediate Error rate 12   35.805861\n",
       "             Error rate 3    20.833333\n",
       "             Error rate 7    29.830586\n",
       "Novice       Error rate 12   59.635008\n",
       "             Error rate 3    34.642857\n",
       "             Error rate 7    54.218995"
      ]
     },
     "execution_count": 10,
     "metadata": {},
     "output_type": "execute_result"
    }
   ],
   "source": [
    "df[(df[\"Technique\"] == \"Pitch\")].groupby([\"Skill\", \"Granularity\"]).mean()"
   ]
  },
  {
   "cell_type": "markdown",
   "metadata": {},
   "source": [
    "### Interval: Skill X Granularity ANOVA"
   ]
  },
  {
   "cell_type": "code",
   "execution_count": 11,
   "metadata": {},
   "outputs": [
    {
     "name": "stdout",
     "output_type": "stream",
     "text": [
      "Aligned Rank Transform of Factorial Model\n",
      "\n",
      "Call:\n",
      "art(formula = error_rate ~ skill * granularity + Error(user_id/granularity) + \n",
      "    skill, data = interval_df)\n",
      "\n",
      "Column sums of aligned responses (should all be ~0):\n",
      "            skill       granularity skill:granularity \n",
      "                0                 0                 0 \n",
      "\n",
      "F values of ANOVAs on aligned responses not of interest (should all be ~0):\n",
      "   Min. 1st Qu.  Median    Mean 3rd Qu.    Max. \n",
      "      0       0       0       0       0       0 \n"
     ]
    }
   ],
   "source": [
    "%%R\n",
    "interval_df <- subset(df, technique == \"Interval\")\n",
    "interval_df_art <- art(error_rate ~ skill * granularity + Error(user_id / granularity) + skill, data = interval_df)\n",
    "summary(interval_df_art)"
   ]
  },
  {
   "cell_type": "code",
   "execution_count": 12,
   "metadata": {},
   "outputs": [
    {
     "name": "stdout",
     "output_type": "stream",
     "text": [
      "Analysis of Variance of Aligned Rank Transformed Data\n",
      "\n",
      "Table Type: Repeated Measures Analysis of Variance Table (Type I) \n",
      "Model: Repeated Measures (aov)\n",
      "Response: art(error_rate)\n",
      "\n",
      "                    Error Df Df.res F value     Pr(>F) eta.sq.part    \n",
      "1 skill             usr_d  2     18 15.8370 0.00010772     0.63764 ***\n",
      "2 granularity       usr_:  2     36 40.4384 6.2278e-10     0.69198 ***\n",
      "3 skill:granularity usr_:  4     36  6.9938 0.00028392     0.43728 ***\n",
      "---\n",
      "Signif. codes:   0 ‘***’ 0.001 ‘**’ 0.01 ‘*’ 0.05 ‘.’ 0.1 ‘ ’ 1 \n"
     ]
    }
   ],
   "source": [
    "%%R\n",
    "m = anova(interval_df_art)\n",
    "m$eta.sq.part = with(m, `Sum Sq`/(`Sum Sq` + `Sum Sq.res`))\n",
    "print(m)"
   ]
  },
  {
   "cell_type": "markdown",
   "metadata": {},
   "source": [
    "#### Interval post-hoc: Granularity"
   ]
  },
  {
   "cell_type": "code",
   "execution_count": 13,
   "metadata": {},
   "outputs": [
    {
     "name": "stdout",
     "output_type": "stream",
     "text": [
      " contrast                     estimate   SE df t.ratio p.value\n",
      " Error rate 12 - Error rate 3     43.2 5.03 36   8.599  <.0001\n",
      " Error rate 12 - Error rate 7     17.3 5.03 36   3.449  0.0040\n",
      " Error rate 3 - Error rate 7     -25.9 5.03 36  -5.150  <.0001\n",
      "\n",
      "Results are averaged over the levels of: skill \n",
      "P value adjustment: tukey method for comparing a family of 3 estimates \n"
     ]
    }
   ],
   "source": [
    "%%R\n",
    "suppressMessages(art.con(interval_df_art, ~ granularity, interaction = FALSE))"
   ]
  },
  {
   "cell_type": "code",
   "execution_count": 14,
   "metadata": {},
   "outputs": [
    {
     "data": {
      "text/html": [
       "<div>\n",
       "<style scoped>\n",
       "    .dataframe tbody tr th:only-of-type {\n",
       "        vertical-align: middle;\n",
       "    }\n",
       "\n",
       "    .dataframe tbody tr th {\n",
       "        vertical-align: top;\n",
       "    }\n",
       "\n",
       "    .dataframe thead th {\n",
       "        text-align: right;\n",
       "    }\n",
       "</style>\n",
       "<table border=\"1\" class=\"dataframe\">\n",
       "  <thead>\n",
       "    <tr style=\"text-align: right;\">\n",
       "      <th></th>\n",
       "      <th>Error rate</th>\n",
       "    </tr>\n",
       "    <tr>\n",
       "      <th>Granularity</th>\n",
       "      <th></th>\n",
       "    </tr>\n",
       "  </thead>\n",
       "  <tbody>\n",
       "    <tr>\n",
       "      <th>Error rate 12</th>\n",
       "      <td>28.736046</td>\n",
       "    </tr>\n",
       "    <tr>\n",
       "      <th>Error rate 3</th>\n",
       "      <td>19.642857</td>\n",
       "    </tr>\n",
       "    <tr>\n",
       "      <th>Error rate 7</th>\n",
       "      <td>24.438557</td>\n",
       "    </tr>\n",
       "  </tbody>\n",
       "</table>\n",
       "</div>"
      ],
      "text/plain": [
       "               Error rate\n",
       "Granularity              \n",
       "Error rate 12   28.736046\n",
       "Error rate 3    19.642857\n",
       "Error rate 7    24.438557"
      ]
     },
     "execution_count": 14,
     "metadata": {},
     "output_type": "execute_result"
    }
   ],
   "source": [
    "df[(df[\"Technique\"] == \"Interval\")].groupby([\"Granularity\"]).mean()"
   ]
  },
  {
   "cell_type": "markdown",
   "metadata": {},
   "source": [
    "#### Interval post-hoc: Skill X Granularity"
   ]
  },
  {
   "cell_type": "code",
   "execution_count": 15,
   "metadata": {},
   "outputs": [
    {
     "name": "stdout",
     "output_type": "stream",
     "text": [
      " skill_pairwise        granularity_pairwise         estimate   SE df t.ratio\n",
      " Expert - Intermediate Error rate 12 - Error rate 3   -54.66 12.2 36  -4.492\n",
      " Expert - Novice       Error rate 12 - Error rate 3   -52.05 11.7 36  -4.464\n",
      " Intermediate - Novice Error rate 12 - Error rate 3     2.61 12.5 36   0.208\n",
      " Expert - Intermediate Error rate 12 - Error rate 7   -29.21 12.2 36  -2.400\n",
      " Expert - Novice       Error rate 12 - Error rate 7   -22.46 11.7 36  -1.927\n",
      " Intermediate - Novice Error rate 12 - Error rate 7     6.74 12.5 36   0.538\n",
      " Expert - Intermediate Error rate 3 - Error rate 7     25.45 12.2 36   2.091\n",
      " Expert - Novice       Error rate 3 - Error rate 7     29.58 11.7 36   2.537\n",
      " Intermediate - Novice Error rate 3 - Error rate 7      4.14 12.5 36   0.330\n",
      " p.value\n",
      "  0.0001\n",
      "  0.0001\n",
      "  0.8364\n",
      "  0.0217\n",
      "  0.0620\n",
      "  0.5939\n",
      "  0.0436\n",
      "  0.0157\n",
      "  0.7433\n",
      "\n"
     ]
    }
   ],
   "source": [
    "%%R\n",
    "suppressMessages(art.con(interval_df_art, ~ skill * granularity, interaction = TRUE))"
   ]
  },
  {
   "cell_type": "code",
   "execution_count": 16,
   "metadata": {},
   "outputs": [
    {
     "data": {
      "text/html": [
       "<div>\n",
       "<style scoped>\n",
       "    .dataframe tbody tr th:only-of-type {\n",
       "        vertical-align: middle;\n",
       "    }\n",
       "\n",
       "    .dataframe tbody tr th {\n",
       "        vertical-align: top;\n",
       "    }\n",
       "\n",
       "    .dataframe thead th {\n",
       "        text-align: right;\n",
       "    }\n",
       "</style>\n",
       "<table border=\"1\" class=\"dataframe\">\n",
       "  <thead>\n",
       "    <tr style=\"text-align: right;\">\n",
       "      <th></th>\n",
       "      <th></th>\n",
       "      <th>Error rate</th>\n",
       "    </tr>\n",
       "    <tr>\n",
       "      <th>Skill</th>\n",
       "      <th>Granularity</th>\n",
       "      <th></th>\n",
       "    </tr>\n",
       "  </thead>\n",
       "  <tbody>\n",
       "    <tr>\n",
       "      <th rowspan=\"3\" valign=\"top\">Expert</th>\n",
       "      <th>Error rate 12</th>\n",
       "      <td>8.364812</td>\n",
       "    </tr>\n",
       "    <tr>\n",
       "      <th>Error rate 3</th>\n",
       "      <td>6.770833</td>\n",
       "    </tr>\n",
       "    <tr>\n",
       "      <th>Error rate 7</th>\n",
       "      <td>7.454785</td>\n",
       "    </tr>\n",
       "    <tr>\n",
       "      <th rowspan=\"3\" valign=\"top\">Intermediate</th>\n",
       "      <th>Error rate 12</th>\n",
       "      <td>30.059524</td>\n",
       "    </tr>\n",
       "    <tr>\n",
       "      <th>Error rate 3</th>\n",
       "      <td>15.972222</td>\n",
       "    </tr>\n",
       "    <tr>\n",
       "      <th>Error rate 7</th>\n",
       "      <td>22.527473</td>\n",
       "    </tr>\n",
       "    <tr>\n",
       "      <th rowspan=\"3\" valign=\"top\">Novice</th>\n",
       "      <th>Error rate 12</th>\n",
       "      <td>50.883046</td>\n",
       "    </tr>\n",
       "    <tr>\n",
       "      <th>Error rate 3</th>\n",
       "      <td>37.500000</td>\n",
       "    </tr>\n",
       "    <tr>\n",
       "      <th>Error rate 7</th>\n",
       "      <td>45.486656</td>\n",
       "    </tr>\n",
       "  </tbody>\n",
       "</table>\n",
       "</div>"
      ],
      "text/plain": [
       "                            Error rate\n",
       "Skill        Granularity              \n",
       "Expert       Error rate 12    8.364812\n",
       "             Error rate 3     6.770833\n",
       "             Error rate 7     7.454785\n",
       "Intermediate Error rate 12   30.059524\n",
       "             Error rate 3    15.972222\n",
       "             Error rate 7    22.527473\n",
       "Novice       Error rate 12   50.883046\n",
       "             Error rate 3    37.500000\n",
       "             Error rate 7    45.486656"
      ]
     },
     "execution_count": 16,
     "metadata": {},
     "output_type": "execute_result"
    }
   ],
   "source": [
    "df[(df[\"Technique\"] == \"Interval\")].groupby([\"Skill\", \"Granularity\"]).mean()"
   ]
  },
  {
   "cell_type": "markdown",
   "metadata": {},
   "source": [
    "### Melody: Skill X Granularity ANOVA"
   ]
  },
  {
   "cell_type": "code",
   "execution_count": 17,
   "metadata": {},
   "outputs": [
    {
     "name": "stdout",
     "output_type": "stream",
     "text": [
      "Aligned Rank Transform of Factorial Model\n",
      "\n",
      "Call:\n",
      "art(formula = error_rate ~ skill * granularity + Error(user_id/granularity) + \n",
      "    skill, data = melody_df)\n",
      "\n",
      "Column sums of aligned responses (should all be ~0):\n",
      "            skill       granularity skill:granularity \n",
      "                0                 0                 0 \n",
      "\n",
      "F values of ANOVAs on aligned responses not of interest (should all be ~0):\n",
      "   Min. 1st Qu.  Median    Mean 3rd Qu.    Max. \n",
      "      0       0       0       0       0       0 \n"
     ]
    }
   ],
   "source": [
    "%%R\n",
    "melody_df <- subset(df, technique == \"Melody\")\n",
    "melody_df_art <- art(error_rate ~ skill * granularity + Error(user_id / granularity) + skill, data = melody_df)\n",
    "summary(melody_df_art)"
   ]
  },
  {
   "cell_type": "code",
   "execution_count": 18,
   "metadata": {},
   "outputs": [
    {
     "name": "stdout",
     "output_type": "stream",
     "text": [
      "Analysis of Variance of Aligned Rank Transformed Data\n",
      "\n",
      "Table Type: Repeated Measures Analysis of Variance Table (Type I) \n",
      "Model: Repeated Measures (aov)\n",
      "Response: art(error_rate)\n",
      "\n",
      "                    Error Df Df.res F value     Pr(>F) eta.sq.part    \n",
      "1 skill             usr_d  2     18 46.1714 8.1800e-08     0.83687 ***\n",
      "2 granularity       usr_:  2     36 44.0472 2.1179e-10     0.70990 ***\n",
      "3 skill:granularity usr_:  4     36  8.8327 4.4748e-05     0.49531 ***\n",
      "---\n",
      "Signif. codes:   0 ‘***’ 0.001 ‘**’ 0.01 ‘*’ 0.05 ‘.’ 0.1 ‘ ’ 1 \n"
     ]
    }
   ],
   "source": [
    "%%R\n",
    "m = anova(melody_df_art)\n",
    "m$eta.sq.part = with(m, `Sum Sq`/(`Sum Sq` + `Sum Sq.res`))\n",
    "print(m)"
   ]
  },
  {
   "cell_type": "markdown",
   "metadata": {},
   "source": [
    "#### Melody post-hoc: Granularity"
   ]
  },
  {
   "cell_type": "code",
   "execution_count": 19,
   "metadata": {},
   "outputs": [
    {
     "name": "stdout",
     "output_type": "stream",
     "text": [
      " contrast                     estimate   SE df t.ratio p.value\n",
      " Error rate 12 - Error rate 3    60.02 7.25 36   8.280  <.0001\n",
      " Error rate 12 - Error rate 7     4.57 7.25 36   0.630  0.8048\n",
      " Error rate 3 - Error rate 7    -55.46 7.25 36  -7.650  <.0001\n",
      "\n",
      "Results are averaged over the levels of: skill \n",
      "P value adjustment: tukey method for comparing a family of 3 estimates \n"
     ]
    }
   ],
   "source": [
    "%%R\n",
    "suppressMessages(art.con(melody_df_art, ~ granularity, interaction = FALSE))"
   ]
  },
  {
   "cell_type": "code",
   "execution_count": 20,
   "metadata": {},
   "outputs": [
    {
     "data": {
      "text/html": [
       "<div>\n",
       "<style scoped>\n",
       "    .dataframe tbody tr th:only-of-type {\n",
       "        vertical-align: middle;\n",
       "    }\n",
       "\n",
       "    .dataframe tbody tr th {\n",
       "        vertical-align: top;\n",
       "    }\n",
       "\n",
       "    .dataframe thead th {\n",
       "        text-align: right;\n",
       "    }\n",
       "</style>\n",
       "<table border=\"1\" class=\"dataframe\">\n",
       "  <thead>\n",
       "    <tr style=\"text-align: right;\">\n",
       "      <th></th>\n",
       "      <th>Error rate</th>\n",
       "    </tr>\n",
       "    <tr>\n",
       "      <th>Granularity</th>\n",
       "      <th></th>\n",
       "    </tr>\n",
       "  </thead>\n",
       "  <tbody>\n",
       "    <tr>\n",
       "      <th>Error rate 12</th>\n",
       "      <td>27.532487</td>\n",
       "    </tr>\n",
       "    <tr>\n",
       "      <th>Error rate 3</th>\n",
       "      <td>14.642857</td>\n",
       "    </tr>\n",
       "    <tr>\n",
       "      <th>Error rate 7</th>\n",
       "      <td>26.826051</td>\n",
       "    </tr>\n",
       "  </tbody>\n",
       "</table>\n",
       "</div>"
      ],
      "text/plain": [
       "               Error rate\n",
       "Granularity              \n",
       "Error rate 12   27.532487\n",
       "Error rate 3    14.642857\n",
       "Error rate 7    26.826051"
      ]
     },
     "execution_count": 20,
     "metadata": {},
     "output_type": "execute_result"
    }
   ],
   "source": [
    "df[(df[\"Technique\"] == \"Melody\")].groupby([\"Granularity\"]).mean()"
   ]
  },
  {
   "cell_type": "markdown",
   "metadata": {},
   "source": [
    "#### Melody post-hoc: Skill X Granularity"
   ]
  },
  {
   "cell_type": "code",
   "execution_count": 21,
   "metadata": {},
   "outputs": [
    {
     "name": "stdout",
     "output_type": "stream",
     "text": [
      " skill_pairwise        granularity_pairwise         estimate   SE df t.ratio\n",
      " Expert - Intermediate Error rate 12 - Error rate 3    -66.0 18.3 36  -3.604\n",
      " Expert - Novice       Error rate 12 - Error rate 3    -94.4 17.6 36  -5.379\n",
      " Intermediate - Novice Error rate 12 - Error rate 3    -28.4 18.9 36  -1.505\n",
      " Expert - Intermediate Error rate 12 - Error rate 7    -18.0 18.3 36  -0.983\n",
      " Expert - Novice       Error rate 12 - Error rate 7    -14.6 17.6 36  -0.832\n",
      " Intermediate - Novice Error rate 12 - Error rate 7      3.4 18.9 36   0.180\n",
      " Expert - Intermediate Error rate 3 - Error rate 7      48.0 18.3 36   2.621\n",
      " Expert - Novice       Error rate 3 - Error rate 7      79.8 17.6 36   4.547\n",
      " Intermediate - Novice Error rate 3 - Error rate 7      31.8 18.9 36   1.686\n",
      " p.value\n",
      "  0.0009\n",
      "  <.0001\n",
      "  0.1409\n",
      "  0.3320\n",
      "  0.4106\n",
      "  0.8581\n",
      "  0.0128\n",
      "  0.0001\n",
      "  0.1005\n",
      "\n"
     ]
    }
   ],
   "source": [
    "%%R\n",
    "suppressMessages(art.con(melody_df_art, ~ skill * granularity, interaction = TRUE))"
   ]
  },
  {
   "cell_type": "code",
   "execution_count": 22,
   "metadata": {},
   "outputs": [
    {
     "data": {
      "text/html": [
       "<div>\n",
       "<style scoped>\n",
       "    .dataframe tbody tr th:only-of-type {\n",
       "        vertical-align: middle;\n",
       "    }\n",
       "\n",
       "    .dataframe tbody tr th {\n",
       "        vertical-align: top;\n",
       "    }\n",
       "\n",
       "    .dataframe thead th {\n",
       "        text-align: right;\n",
       "    }\n",
       "</style>\n",
       "<table border=\"1\" class=\"dataframe\">\n",
       "  <thead>\n",
       "    <tr style=\"text-align: right;\">\n",
       "      <th></th>\n",
       "      <th></th>\n",
       "      <th>Error rate</th>\n",
       "    </tr>\n",
       "    <tr>\n",
       "      <th>Skill</th>\n",
       "      <th>Granularity</th>\n",
       "      <th></th>\n",
       "    </tr>\n",
       "  </thead>\n",
       "  <tbody>\n",
       "    <tr>\n",
       "      <th rowspan=\"3\" valign=\"top\">Expert</th>\n",
       "      <th>Error rate 12</th>\n",
       "      <td>7.214400</td>\n",
       "    </tr>\n",
       "    <tr>\n",
       "      <th>Error rate 3</th>\n",
       "      <td>2.604167</td>\n",
       "    </tr>\n",
       "    <tr>\n",
       "      <th>Error rate 7</th>\n",
       "      <td>7.660829</td>\n",
       "    </tr>\n",
       "    <tr>\n",
       "      <th rowspan=\"3\" valign=\"top\">Intermediate</th>\n",
       "      <th>Error rate 12</th>\n",
       "      <td>24.587912</td>\n",
       "    </tr>\n",
       "    <tr>\n",
       "      <th>Error rate 3</th>\n",
       "      <td>11.805556</td>\n",
       "    </tr>\n",
       "    <tr>\n",
       "      <th>Error rate 7</th>\n",
       "      <td>23.099817</td>\n",
       "    </tr>\n",
       "    <tr>\n",
       "      <th rowspan=\"3\" valign=\"top\">Novice</th>\n",
       "      <th>Error rate 12</th>\n",
       "      <td>53.277080</td>\n",
       "    </tr>\n",
       "    <tr>\n",
       "      <th>Error rate 3</th>\n",
       "      <td>30.833333</td>\n",
       "    </tr>\n",
       "    <tr>\n",
       "      <th>Error rate 7</th>\n",
       "      <td>51.923077</td>\n",
       "    </tr>\n",
       "  </tbody>\n",
       "</table>\n",
       "</div>"
      ],
      "text/plain": [
       "                            Error rate\n",
       "Skill        Granularity              \n",
       "Expert       Error rate 12    7.214400\n",
       "             Error rate 3     2.604167\n",
       "             Error rate 7     7.660829\n",
       "Intermediate Error rate 12   24.587912\n",
       "             Error rate 3    11.805556\n",
       "             Error rate 7    23.099817\n",
       "Novice       Error rate 12   53.277080\n",
       "             Error rate 3    30.833333\n",
       "             Error rate 7    51.923077"
      ]
     },
     "execution_count": 22,
     "metadata": {},
     "output_type": "execute_result"
    }
   ],
   "source": [
    "df[(df[\"Technique\"] == \"Melody\")].groupby([\"Skill\", \"Granularity\"]).mean()"
   ]
  },
  {
   "cell_type": "markdown",
   "metadata": {},
   "source": [
    "### Granularity graphs"
   ]
  },
  {
   "cell_type": "code",
   "execution_count": 23,
   "metadata": {},
   "outputs": [
    {
     "data": {
      "image/png": "[encoded data removed]",
      "text/plain": [
       "<Figure size 432x194.4 with 1 Axes>"
      ]
     },
     "metadata": {},
     "output_type": "display_data"
    },
    {
     "data": {
      "image/png": "[encoded data removed]",
      "text/plain": [
       "<Figure size 432x194.4 with 1 Axes>"
      ]
     },
     "metadata": {},
     "output_type": "display_data"
    },
    {
     "data": {
      "image/png": "[encoded data removed]",
      "text/plain": [
       "<Figure size 432x194.4 with 1 Axes>"
      ]
     },
     "metadata": {},
     "output_type": "display_data"
    }
   ],
   "source": [
    "from utils.factorize import factorize_xticks, wrap_dv, wrap_factor\n",
    "\n",
    "skills = [\"Novice\", \"Intermediate\", \"Expert\"]\n",
    "techniques = [\"Pitch\", \"Interval\", \"Melody\"]\n",
    "legend_labels = [\n",
    "    wrap_factor(x) for x in [\"granularity-12\", \"granularity-7\", \"granularity-3\"]\n",
    "]\n",
    "\n",
    "for technique in techniques:\n",
    "    fig = plt.figure(constrained_layout=True)\n",
    "    fig.set_figwidth(6)\n",
    "    fig.set_figheight(2.7)\n",
    "    ax = fig.add_subplot()\n",
    "    curr_df = df[(df[\"Technique\"] == technique)]\n",
    "    sns.barplot(\n",
    "        data=curr_df,\n",
    "        x=\"Skill\",\n",
    "        order=skills,\n",
    "        y=\"Error rate\",\n",
    "        hue=\"Granularity\",\n",
    "        ci=95,\n",
    "        n_boot=10000,\n",
    "        ax=ax,\n",
    "        palette=reg_palette,\n",
    "    )\n",
    "\n",
    "    ax.set_xlabel(None)\n",
    "    factorize_xticks(ax)\n",
    "    ax.set_ylim(ymin=0, ymax=70)\n",
    "    ax.set_ylabel(\"Error rate (%)\")\n",
    "\n",
    "    for idx, text in enumerate(ax.legend().get_texts()):\n",
    "        text.set_text(legend_labels[idx])\n",
    "\n",
    "    # Remove spines\n",
    "    ax.spines[\"right\"].set_visible(False)\n",
    "    ax.spines[\"top\"].set_visible(False)"
   ]
  },
  {
   "cell_type": "markdown",
   "metadata": {},
   "source": [
    "## Melody confusion matrix"
   ]
  },
  {
   "cell_type": "code",
   "execution_count": 24,
   "metadata": {},
   "outputs": [
    {
     "data": {
      "text/html": [
       "<div>\n",
       "<style scoped>\n",
       "    .dataframe tbody tr th:only-of-type {\n",
       "        vertical-align: middle;\n",
       "    }\n",
       "\n",
       "    .dataframe tbody tr th {\n",
       "        vertical-align: top;\n",
       "    }\n",
       "\n",
       "    .dataframe thead th {\n",
       "        text-align: right;\n",
       "    }\n",
       "</style>\n",
       "<table border=\"1\" class=\"dataframe\">\n",
       "  <thead>\n",
       "    <tr style=\"text-align: right;\">\n",
       "      <th></th>\n",
       "      <th>User ID</th>\n",
       "      <th>Skill</th>\n",
       "      <th>Training</th>\n",
       "      <th>Background</th>\n",
       "      <th>Recognized</th>\n",
       "      <th>Target</th>\n",
       "      <th>Correct</th>\n",
       "    </tr>\n",
       "  </thead>\n",
       "  <tbody>\n",
       "    <tr>\n",
       "      <th>0</th>\n",
       "      <td>4g4XbueBXPakEKcHYSqqot76sGg1</td>\n",
       "      <td>Expert</td>\n",
       "      <td>Untrained</td>\n",
       "      <td>No-Music</td>\n",
       "      <td>1-3-2</td>\n",
       "      <td>1-3-2</td>\n",
       "      <td>True</td>\n",
       "    </tr>\n",
       "    <tr>\n",
       "      <th>1</th>\n",
       "      <td>4g4XbueBXPakEKcHYSqqot76sGg1</td>\n",
       "      <td>Expert</td>\n",
       "      <td>Untrained</td>\n",
       "      <td>No-Music</td>\n",
       "      <td>1-5-3</td>\n",
       "      <td>1-5-3</td>\n",
       "      <td>True</td>\n",
       "    </tr>\n",
       "    <tr>\n",
       "      <th>2</th>\n",
       "      <td>4g4XbueBXPakEKcHYSqqot76sGg1</td>\n",
       "      <td>Expert</td>\n",
       "      <td>Untrained</td>\n",
       "      <td>No-Music</td>\n",
       "      <td>1-3-5</td>\n",
       "      <td>1-3-5</td>\n",
       "      <td>True</td>\n",
       "    </tr>\n",
       "    <tr>\n",
       "      <th>3</th>\n",
       "      <td>4g4XbueBXPakEKcHYSqqot76sGg1</td>\n",
       "      <td>Expert</td>\n",
       "      <td>Untrained</td>\n",
       "      <td>No-Music</td>\n",
       "      <td>1-5-8</td>\n",
       "      <td>1-5-8</td>\n",
       "      <td>True</td>\n",
       "    </tr>\n",
       "    <tr>\n",
       "      <th>4</th>\n",
       "      <td>4g4XbueBXPakEKcHYSqqot76sGg1</td>\n",
       "      <td>Expert</td>\n",
       "      <td>Untrained</td>\n",
       "      <td>No-Music</td>\n",
       "      <td>1-2-3</td>\n",
       "      <td>1-2-3</td>\n",
       "      <td>True</td>\n",
       "    </tr>\n",
       "    <tr>\n",
       "      <th>...</th>\n",
       "      <td>...</td>\n",
       "      <td>...</td>\n",
       "      <td>...</td>\n",
       "      <td>...</td>\n",
       "      <td>...</td>\n",
       "      <td>...</td>\n",
       "      <td>...</td>\n",
       "    </tr>\n",
       "    <tr>\n",
       "      <th>1155</th>\n",
       "      <td>RIneOAfWA6POfHcHOoYEDG1BF6T2</td>\n",
       "      <td>Expert</td>\n",
       "      <td>Trained</td>\n",
       "      <td>Music</td>\n",
       "      <td>1-3-5</td>\n",
       "      <td>1-3-5</td>\n",
       "      <td>True</td>\n",
       "    </tr>\n",
       "    <tr>\n",
       "      <th>1156</th>\n",
       "      <td>RIneOAfWA6POfHcHOoYEDG1BF6T2</td>\n",
       "      <td>Expert</td>\n",
       "      <td>Trained</td>\n",
       "      <td>Music</td>\n",
       "      <td>1-3-5</td>\n",
       "      <td>1-3-2</td>\n",
       "      <td>False</td>\n",
       "    </tr>\n",
       "    <tr>\n",
       "      <th>1157</th>\n",
       "      <td>RIneOAfWA6POfHcHOoYEDG1BF6T2</td>\n",
       "      <td>Expert</td>\n",
       "      <td>Trained</td>\n",
       "      <td>Music</td>\n",
       "      <td>1-2-3</td>\n",
       "      <td>1-2-3</td>\n",
       "      <td>True</td>\n",
       "    </tr>\n",
       "    <tr>\n",
       "      <th>1158</th>\n",
       "      <td>RIneOAfWA6POfHcHOoYEDG1BF6T2</td>\n",
       "      <td>Expert</td>\n",
       "      <td>Trained</td>\n",
       "      <td>Music</td>\n",
       "      <td>1-2-3</td>\n",
       "      <td>1-2-3</td>\n",
       "      <td>True</td>\n",
       "    </tr>\n",
       "    <tr>\n",
       "      <th>1159</th>\n",
       "      <td>RIneOAfWA6POfHcHOoYEDG1BF6T2</td>\n",
       "      <td>Expert</td>\n",
       "      <td>Trained</td>\n",
       "      <td>Music</td>\n",
       "      <td>1-5-3</td>\n",
       "      <td>1-5-3</td>\n",
       "      <td>True</td>\n",
       "    </tr>\n",
       "  </tbody>\n",
       "</table>\n",
       "<p>1160 rows × 7 columns</p>\n",
       "</div>"
      ],
      "text/plain": [
       "                           User ID   Skill   Training Background Recognized  \\\n",
       "0     4g4XbueBXPakEKcHYSqqot76sGg1  Expert  Untrained   No-Music      1-3-2   \n",
       "1     4g4XbueBXPakEKcHYSqqot76sGg1  Expert  Untrained   No-Music      1-5-3   \n",
       "2     4g4XbueBXPakEKcHYSqqot76sGg1  Expert  Untrained   No-Music      1-3-5   \n",
       "3     4g4XbueBXPakEKcHYSqqot76sGg1  Expert  Untrained   No-Music      1-5-8   \n",
       "4     4g4XbueBXPakEKcHYSqqot76sGg1  Expert  Untrained   No-Music      1-2-3   \n",
       "...                            ...     ...        ...        ...        ...   \n",
       "1155  RIneOAfWA6POfHcHOoYEDG1BF6T2  Expert    Trained      Music      1-3-5   \n",
       "1156  RIneOAfWA6POfHcHOoYEDG1BF6T2  Expert    Trained      Music      1-3-5   \n",
       "1157  RIneOAfWA6POfHcHOoYEDG1BF6T2  Expert    Trained      Music      1-2-3   \n",
       "1158  RIneOAfWA6POfHcHOoYEDG1BF6T2  Expert    Trained      Music      1-2-3   \n",
       "1159  RIneOAfWA6POfHcHOoYEDG1BF6T2  Expert    Trained      Music      1-5-3   \n",
       "\n",
       "     Target  Correct  \n",
       "0     1-3-2     True  \n",
       "1     1-5-3     True  \n",
       "2     1-3-5     True  \n",
       "3     1-5-8     True  \n",
       "4     1-2-3     True  \n",
       "...     ...      ...  \n",
       "1155  1-3-5     True  \n",
       "1156  1-3-2    False  \n",
       "1157  1-2-3     True  \n",
       "1158  1-2-3     True  \n",
       "1159  1-5-3     True  \n",
       "\n",
       "[1160 rows x 7 columns]"
      ]
     },
     "execution_count": 24,
     "metadata": {},
     "output_type": "execute_result"
    }
   ],
   "source": [
    "mel_df = pd.read_csv(\"../data/discussion-melody-confusion.csv\", index_col=0)\n",
    "mel_df"
   ]
  },
  {
   "cell_type": "code",
   "execution_count": 25,
   "metadata": {},
   "outputs": [
    {
     "data": {
      "image/png": "[encoded data removed]",
      "text/plain": [
       "<Figure size 432x288 with 2 Axes>"
      ]
     },
     "metadata": {},
     "output_type": "display_data"
    }
   ],
   "source": [
    "idx_dict = {\n",
    "    \"1-3-2\": 0,\n",
    "    \"1-2-3\": 1,\n",
    "    \"1-5-1\": 2,\n",
    "    \"1-4-1\": 3,\n",
    "    \"1-5-3\": 4,\n",
    "    \"1-3-5\": 5,\n",
    "    \"1-5-8\": 6,\n",
    "}\n",
    "idx_keys = idx_dict.keys();\n",
    "def get_melody_id(melody):\n",
    "    if melody in idx_keys:\n",
    "        return idx_dict[melody]\n",
    "    return 7\n",
    "\n",
    "arr = np.zeros((7, 8), np.int32)\n",
    "for idx, row in mel_df.iterrows():\n",
    "    arr[idx_dict[row[\"Target\"]], get_melody_id(row[\"Recognized\"])] += 1\n",
    "\n",
    "melody_opts = list(idx_dict.keys())\n",
    "confusion_mat = pd.DataFrame(\n",
    "    data=arr, columns=melody_opts + [\"None\"], index=(melody_opts)\n",
    ")\n",
    "confusion_mat.rename_axis(\"Target melody\", inplace=True)\n",
    "confusion_mat.rename_axis(\"Recognized melody\", axis=1, inplace=True)\n",
    "\n",
    "fig = plt.figure(constrained_layout=True)\n",
    "fig.set_figwidth(6)\n",
    "fig.set_figheight(4)\n",
    "ax = fig.add_subplot()\n",
    "sns.heatmap(confusion_mat, annot=True, ax=ax, fmt=\"d\")\n",
    "ax.tick_params(axis=\"y\", rotation=0)"
   ]
  },
  {
   "cell_type": "markdown",
   "metadata": {},
   "source": [
    "## Changing Melodies"
   ]
  },
  {
   "cell_type": "code",
   "execution_count": 26,
   "metadata": {},
   "outputs": [
    {
     "data": {
      "text/html": [
       "<div>\n",
       "<style scoped>\n",
       "    .dataframe tbody tr th:only-of-type {\n",
       "        vertical-align: middle;\n",
       "    }\n",
       "\n",
       "    .dataframe tbody tr th {\n",
       "        vertical-align: top;\n",
       "    }\n",
       "\n",
       "    .dataframe thead th {\n",
       "        text-align: right;\n",
       "    }\n",
       "</style>\n",
       "<table border=\"1\" class=\"dataframe\">\n",
       "  <thead>\n",
       "    <tr style=\"text-align: right;\">\n",
       "      <th></th>\n",
       "      <th>User ID</th>\n",
       "      <th>Skill</th>\n",
       "      <th>Training</th>\n",
       "      <th>Background</th>\n",
       "      <th>Melodies</th>\n",
       "      <th>Error rate</th>\n",
       "    </tr>\n",
       "  </thead>\n",
       "  <tbody>\n",
       "    <tr>\n",
       "      <th>0</th>\n",
       "      <td>4g4XbueBXPakEKcHYSqqot76sGg1</td>\n",
       "      <td>Expert</td>\n",
       "      <td>Untrained</td>\n",
       "      <td>No-Music</td>\n",
       "      <td>melodies-7</td>\n",
       "      <td>35.714286</td>\n",
       "    </tr>\n",
       "    <tr>\n",
       "      <th>1</th>\n",
       "      <td>4g4XbueBXPakEKcHYSqqot76sGg1</td>\n",
       "      <td>Expert</td>\n",
       "      <td>Untrained</td>\n",
       "      <td>No-Music</td>\n",
       "      <td>melodies-4</td>\n",
       "      <td>50.000000</td>\n",
       "    </tr>\n",
       "    <tr>\n",
       "      <th>2</th>\n",
       "      <td>4g4XbueBXPakEKcHYSqqot76sGg1</td>\n",
       "      <td>Expert</td>\n",
       "      <td>Untrained</td>\n",
       "      <td>Music</td>\n",
       "      <td>melodies-7</td>\n",
       "      <td>0.000000</td>\n",
       "    </tr>\n",
       "    <tr>\n",
       "      <th>3</th>\n",
       "      <td>4g4XbueBXPakEKcHYSqqot76sGg1</td>\n",
       "      <td>Expert</td>\n",
       "      <td>Untrained</td>\n",
       "      <td>Music</td>\n",
       "      <td>melodies-4</td>\n",
       "      <td>0.000000</td>\n",
       "    </tr>\n",
       "    <tr>\n",
       "      <th>4</th>\n",
       "      <td>4g4XbueBXPakEKcHYSqqot76sGg1</td>\n",
       "      <td>Expert</td>\n",
       "      <td>Trained</td>\n",
       "      <td>No-Music</td>\n",
       "      <td>melodies-7</td>\n",
       "      <td>0.000000</td>\n",
       "    </tr>\n",
       "    <tr>\n",
       "      <th>...</th>\n",
       "      <td>...</td>\n",
       "      <td>...</td>\n",
       "      <td>...</td>\n",
       "      <td>...</td>\n",
       "      <td>...</td>\n",
       "      <td>...</td>\n",
       "    </tr>\n",
       "    <tr>\n",
       "      <th>163</th>\n",
       "      <td>RIneOAfWA6POfHcHOoYEDG1BF6T2</td>\n",
       "      <td>Expert</td>\n",
       "      <td>Untrained</td>\n",
       "      <td>Music</td>\n",
       "      <td>melodies-4</td>\n",
       "      <td>12.500000</td>\n",
       "    </tr>\n",
       "    <tr>\n",
       "      <th>164</th>\n",
       "      <td>RIneOAfWA6POfHcHOoYEDG1BF6T2</td>\n",
       "      <td>Expert</td>\n",
       "      <td>Trained</td>\n",
       "      <td>No-Music</td>\n",
       "      <td>melodies-7</td>\n",
       "      <td>0.000000</td>\n",
       "    </tr>\n",
       "    <tr>\n",
       "      <th>165</th>\n",
       "      <td>RIneOAfWA6POfHcHOoYEDG1BF6T2</td>\n",
       "      <td>Expert</td>\n",
       "      <td>Trained</td>\n",
       "      <td>No-Music</td>\n",
       "      <td>melodies-4</td>\n",
       "      <td>0.000000</td>\n",
       "    </tr>\n",
       "    <tr>\n",
       "      <th>166</th>\n",
       "      <td>RIneOAfWA6POfHcHOoYEDG1BF6T2</td>\n",
       "      <td>Expert</td>\n",
       "      <td>Trained</td>\n",
       "      <td>Music</td>\n",
       "      <td>melodies-7</td>\n",
       "      <td>7.142857</td>\n",
       "    </tr>\n",
       "    <tr>\n",
       "      <th>167</th>\n",
       "      <td>RIneOAfWA6POfHcHOoYEDG1BF6T2</td>\n",
       "      <td>Expert</td>\n",
       "      <td>Trained</td>\n",
       "      <td>Music</td>\n",
       "      <td>melodies-4</td>\n",
       "      <td>0.000000</td>\n",
       "    </tr>\n",
       "  </tbody>\n",
       "</table>\n",
       "<p>168 rows × 6 columns</p>\n",
       "</div>"
      ],
      "text/plain": [
       "                          User ID   Skill   Training Background    Melodies  \\\n",
       "0    4g4XbueBXPakEKcHYSqqot76sGg1  Expert  Untrained   No-Music  melodies-7   \n",
       "1    4g4XbueBXPakEKcHYSqqot76sGg1  Expert  Untrained   No-Music  melodies-4   \n",
       "2    4g4XbueBXPakEKcHYSqqot76sGg1  Expert  Untrained      Music  melodies-7   \n",
       "3    4g4XbueBXPakEKcHYSqqot76sGg1  Expert  Untrained      Music  melodies-4   \n",
       "4    4g4XbueBXPakEKcHYSqqot76sGg1  Expert    Trained   No-Music  melodies-7   \n",
       "..                            ...     ...        ...        ...         ...   \n",
       "163  RIneOAfWA6POfHcHOoYEDG1BF6T2  Expert  Untrained      Music  melodies-4   \n",
       "164  RIneOAfWA6POfHcHOoYEDG1BF6T2  Expert    Trained   No-Music  melodies-7   \n",
       "165  RIneOAfWA6POfHcHOoYEDG1BF6T2  Expert    Trained   No-Music  melodies-4   \n",
       "166  RIneOAfWA6POfHcHOoYEDG1BF6T2  Expert    Trained      Music  melodies-7   \n",
       "167  RIneOAfWA6POfHcHOoYEDG1BF6T2  Expert    Trained      Music  melodies-4   \n",
       "\n",
       "     Error rate  \n",
       "0     35.714286  \n",
       "1     50.000000  \n",
       "2      0.000000  \n",
       "3      0.000000  \n",
       "4      0.000000  \n",
       "..          ...  \n",
       "163   12.500000  \n",
       "164    0.000000  \n",
       "165    0.000000  \n",
       "166    7.142857  \n",
       "167    0.000000  \n",
       "\n",
       "[168 rows x 6 columns]"
      ]
     },
     "execution_count": 26,
     "metadata": {},
     "output_type": "execute_result"
    }
   ],
   "source": [
    "err_df = pd.read_csv(\"../data/discussion-melody-error.csv\", index_col=0)\n",
    "err_df"
   ]
  },
  {
   "cell_type": "code",
   "execution_count": 27,
   "metadata": {},
   "outputs": [],
   "source": [
    "%%R -i err_df\n",
    "\n",
    "library(ARTool) # art, artlm\n",
    "\n",
    "# Sanitize dataframe column names\n",
    "library(janitor)\n",
    "err_df <- clean_names(err_df)\n",
    "\n",
    "err_df$skill <- factor(err_df$skill)\n",
    "err_df$training <- factor(err_df$training)\n",
    "err_df$background <- factor(err_df$background)\n",
    "err_df$user_id <- factor(err_df$user_id)\n",
    "err_df$melodies <- factor(err_df$melodies)"
   ]
  },
  {
   "cell_type": "markdown",
   "metadata": {},
   "source": [
    "### Melody: Skill X Melodies ANOVA"
   ]
  },
  {
   "cell_type": "code",
   "execution_count": 28,
   "metadata": {},
   "outputs": [
    {
     "name": "stdout",
     "output_type": "stream",
     "text": [
      "Aligned Rank Transform of Factorial Model\n",
      "\n",
      "Call:\n",
      "art(formula = error_rate ~ skill * melodies + Error(user_id/(melodies)) + \n",
      "    skill, data = err_df)\n",
      "\n",
      "Column sums of aligned responses (should all be ~0):\n",
      "         skill       melodies skill:melodies \n",
      "             0              0              0 \n",
      "\n",
      "F values of ANOVAs on aligned responses not of interest (should all be ~0):\n",
      "   Min. 1st Qu.  Median    Mean 3rd Qu.    Max. \n",
      "      0       0       0       0       0       0 \n"
     ]
    }
   ],
   "source": [
    "%%R\n",
    "df_art <- art(error_rate ~ skill * melodies + Error(user_id / (melodies)) + skill, data = err_df)\n",
    "summary(df_art)"
   ]
  },
  {
   "cell_type": "code",
   "execution_count": 29,
   "metadata": {},
   "outputs": [
    {
     "name": "stdout",
     "output_type": "stream",
     "text": [
      "Analysis of Variance of Aligned Rank Transformed Data\n",
      "\n",
      "Table Type: Repeated Measures Analysis of Variance Table (Type I) \n",
      "Model: Repeated Measures (aov)\n",
      "Response: art(error_rate)\n",
      "\n",
      "                 Error Df Df.res F value     Pr(>F) eta.sq.part    \n",
      "1 skill          usr_d  2     18 50.6106 4.0763e-08     0.84902 ***\n",
      "2 melodies       usr_:  1     18 42.2105 4.1395e-06     0.70105 ***\n",
      "3 skill:melodies usr_:  2     18  6.0171  0.0099746     0.40069  **\n",
      "---\n",
      "Signif. codes:   0 ‘***’ 0.001 ‘**’ 0.01 ‘*’ 0.05 ‘.’ 0.1 ‘ ’ 1 \n"
     ]
    }
   ],
   "source": [
    "%%R\n",
    "m = anova(df_art)\n",
    "m$eta.sq.part = with(m, `Sum Sq`/(`Sum Sq` + `Sum Sq.res`))\n",
    "print(m)"
   ]
  },
  {
   "cell_type": "markdown",
   "metadata": {},
   "source": [
    "#### Melody post-hoc: Melodies"
   ]
  },
  {
   "cell_type": "code",
   "execution_count": 30,
   "metadata": {},
   "outputs": [
    {
     "name": "stdout",
     "output_type": "stream",
     "text": [
      " contrast                    estimate   SE df t.ratio p.value\n",
      " (melodies-4) - (melodies-7)    -26.5 4.19 18  -6.325  <.0001\n",
      "\n",
      "Results are averaged over the levels of: skill \n"
     ]
    }
   ],
   "source": [
    "%%R\n",
    "suppressMessages(art.con(df_art, ~ melodies, interaction = FALSE))"
   ]
  },
  {
   "cell_type": "code",
   "execution_count": 31,
   "metadata": {},
   "outputs": [
    {
     "data": {
      "text/html": [
       "<div>\n",
       "<style scoped>\n",
       "    .dataframe tbody tr th:only-of-type {\n",
       "        vertical-align: middle;\n",
       "    }\n",
       "\n",
       "    .dataframe tbody tr th {\n",
       "        vertical-align: top;\n",
       "    }\n",
       "\n",
       "    .dataframe thead th {\n",
       "        text-align: right;\n",
       "    }\n",
       "</style>\n",
       "<table border=\"1\" class=\"dataframe\">\n",
       "  <thead>\n",
       "    <tr style=\"text-align: right;\">\n",
       "      <th></th>\n",
       "      <th>Error rate</th>\n",
       "    </tr>\n",
       "    <tr>\n",
       "      <th>Melodies</th>\n",
       "      <th></th>\n",
       "    </tr>\n",
       "  </thead>\n",
       "  <tbody>\n",
       "    <tr>\n",
       "      <th>melodies-4</th>\n",
       "      <td>20.386905</td>\n",
       "    </tr>\n",
       "    <tr>\n",
       "      <th>melodies-7</th>\n",
       "      <td>27.532487</td>\n",
       "    </tr>\n",
       "  </tbody>\n",
       "</table>\n",
       "</div>"
      ],
      "text/plain": [
       "            Error rate\n",
       "Melodies              \n",
       "melodies-4   20.386905\n",
       "melodies-7   27.532487"
      ]
     },
     "execution_count": 31,
     "metadata": {},
     "output_type": "execute_result"
    }
   ],
   "source": [
    "err_df.groupby([\"Melodies\"]).mean()"
   ]
  },
  {
   "cell_type": "markdown",
   "metadata": {},
   "source": [
    "#### Melody post-hoc: Skill X Melodies"
   ]
  },
  {
   "cell_type": "code",
   "execution_count": 32,
   "metadata": {},
   "outputs": [
    {
     "name": "stdout",
     "output_type": "stream",
     "text": [
      " skill_pairwise        melodies_pairwise           estimate   SE df t.ratio\n",
      " Expert - Intermediate (melodies-4) - (melodies-7)     16.2 11.8 18   1.368\n",
      " Expert - Novice       (melodies-4) - (melodies-7)     39.3 11.3 18   3.463\n",
      " Intermediate - Novice (melodies-4) - (melodies-7)     23.1 12.2 18   1.893\n",
      " p.value\n",
      "  0.1880\n",
      "  0.0028\n",
      "  0.0745\n",
      "\n"
     ]
    }
   ],
   "source": [
    "%%R\n",
    "suppressMessages(art.con(df_art, ~ skill * melodies, interaction = TRUE))"
   ]
  },
  {
   "cell_type": "code",
   "execution_count": 33,
   "metadata": {},
   "outputs": [
    {
     "data": {
      "text/html": [
       "<div>\n",
       "<style scoped>\n",
       "    .dataframe tbody tr th:only-of-type {\n",
       "        vertical-align: middle;\n",
       "    }\n",
       "\n",
       "    .dataframe tbody tr th {\n",
       "        vertical-align: top;\n",
       "    }\n",
       "\n",
       "    .dataframe thead th {\n",
       "        text-align: right;\n",
       "    }\n",
       "</style>\n",
       "<table border=\"1\" class=\"dataframe\">\n",
       "  <thead>\n",
       "    <tr style=\"text-align: right;\">\n",
       "      <th></th>\n",
       "      <th></th>\n",
       "      <th>Error rate</th>\n",
       "    </tr>\n",
       "    <tr>\n",
       "      <th>Skill</th>\n",
       "      <th>Melodies</th>\n",
       "      <th></th>\n",
       "    </tr>\n",
       "  </thead>\n",
       "  <tbody>\n",
       "    <tr>\n",
       "      <th rowspan=\"2\" valign=\"top\">Expert</th>\n",
       "      <th>melodies-4</th>\n",
       "      <td>3.515625</td>\n",
       "    </tr>\n",
       "    <tr>\n",
       "      <th>melodies-7</th>\n",
       "      <td>7.214400</td>\n",
       "    </tr>\n",
       "    <tr>\n",
       "      <th rowspan=\"2\" valign=\"top\">Intermediate</th>\n",
       "      <th>melodies-4</th>\n",
       "      <td>21.056548</td>\n",
       "    </tr>\n",
       "    <tr>\n",
       "      <th>melodies-7</th>\n",
       "      <td>24.587912</td>\n",
       "    </tr>\n",
       "    <tr>\n",
       "      <th rowspan=\"2\" valign=\"top\">Novice</th>\n",
       "      <th>melodies-4</th>\n",
       "      <td>39.094388</td>\n",
       "    </tr>\n",
       "    <tr>\n",
       "      <th>melodies-7</th>\n",
       "      <td>53.277080</td>\n",
       "    </tr>\n",
       "  </tbody>\n",
       "</table>\n",
       "</div>"
      ],
      "text/plain": [
       "                         Error rate\n",
       "Skill        Melodies              \n",
       "Expert       melodies-4    3.515625\n",
       "             melodies-7    7.214400\n",
       "Intermediate melodies-4   21.056548\n",
       "             melodies-7   24.587912\n",
       "Novice       melodies-4   39.094388\n",
       "             melodies-7   53.277080"
      ]
     },
     "execution_count": 33,
     "metadata": {},
     "output_type": "execute_result"
    }
   ],
   "source": [
    "err_df.groupby([\"Skill\", \"Melodies\"]).mean()"
   ]
  },
  {
   "cell_type": "markdown",
   "metadata": {},
   "source": [
    "### Melodies graph"
   ]
  },
  {
   "cell_type": "code",
   "execution_count": 34,
   "metadata": {},
   "outputs": [
    {
     "data": {
      "image/png": "[encoded data removed]",
      "text/plain": [
       "<Figure size 432x194.4 with 1 Axes>"
      ]
     },
     "metadata": {},
     "output_type": "display_data"
    }
   ],
   "source": [
    "from utils.factorize import factorize_xticks, wrap_dv, wrap_factor\n",
    "\n",
    "skills = [\"Novice\", \"Intermediate\", \"Expert\"]\n",
    "\n",
    "fig = plt.figure(constrained_layout=True)\n",
    "fig.set_figwidth(6)\n",
    "fig.set_figheight(2.7)\n",
    "ax = fig.add_subplot()\n",
    "curr_df = err_df\n",
    "sns.barplot(\n",
    "    data=curr_df,\n",
    "    x=\"Skill\",\n",
    "    order=skills,\n",
    "    y=\"Error rate\",\n",
    "    hue=\"Melodies\",\n",
    "    #     hue_order=[7, 4],\n",
    "    ci=95,\n",
    "    n_boot=10000,\n",
    "    ax=ax,\n",
    "    palette=reg_palette,\n",
    ")\n",
    "\n",
    "ax.set_xlabel(None)\n",
    "factorize_xticks(ax)\n",
    "\n",
    "ax.set_ylim(ymin=0, ymax=70)\n",
    "ax.set_ylabel(\"Error rate (%)\")\n",
    "\n",
    "for idx, text in enumerate(ax.legend().get_texts()):\n",
    "    text.set_text(wrap_factor(text.get_text()))\n",
    "\n",
    "# Remove spines\n",
    "ax.spines[\"right\"].set_visible(False)\n",
    "ax.spines[\"top\"].set_visible(False)"
   ]
  },
  {
   "cell_type": "markdown",
   "metadata": {},
   "source": [
    "## Pitch heatmap"
   ]
  },
  {
   "cell_type": "code",
   "execution_count": 35,
   "metadata": {},
   "outputs": [
    {
     "data": {
      "text/html": [
       "<div>\n",
       "<style scoped>\n",
       "    .dataframe tbody tr th:only-of-type {\n",
       "        vertical-align: middle;\n",
       "    }\n",
       "\n",
       "    .dataframe tbody tr th {\n",
       "        vertical-align: top;\n",
       "    }\n",
       "\n",
       "    .dataframe thead th {\n",
       "        text-align: right;\n",
       "    }\n",
       "</style>\n",
       "<table border=\"1\" class=\"dataframe\">\n",
       "  <thead>\n",
       "    <tr style=\"text-align: right;\">\n",
       "      <th></th>\n",
       "      <th>User ID</th>\n",
       "      <th>Skill</th>\n",
       "      <th>Background</th>\n",
       "      <th>Training</th>\n",
       "      <th>Success</th>\n",
       "      <th>Recognized pitch</th>\n",
       "      <th>Time</th>\n",
       "      <th>Semitones from target</th>\n",
       "    </tr>\n",
       "  </thead>\n",
       "  <tbody>\n",
       "    <tr>\n",
       "      <th>0</th>\n",
       "      <td>4g4XbueBXPakEKcHYSqqot76sGg1</td>\n",
       "      <td>Expert</td>\n",
       "      <td>No-Music</td>\n",
       "      <td>Untrained</td>\n",
       "      <td>True</td>\n",
       "      <td>32</td>\n",
       "      <td>0.000000</td>\n",
       "      <td>-0.301919</td>\n",
       "    </tr>\n",
       "    <tr>\n",
       "      <th>1</th>\n",
       "      <td>4g4XbueBXPakEKcHYSqqot76sGg1</td>\n",
       "      <td>Expert</td>\n",
       "      <td>No-Music</td>\n",
       "      <td>Untrained</td>\n",
       "      <td>True</td>\n",
       "      <td>32</td>\n",
       "      <td>0.010670</td>\n",
       "      <td>-0.268139</td>\n",
       "    </tr>\n",
       "    <tr>\n",
       "      <th>2</th>\n",
       "      <td>4g4XbueBXPakEKcHYSqqot76sGg1</td>\n",
       "      <td>Expert</td>\n",
       "      <td>No-Music</td>\n",
       "      <td>Untrained</td>\n",
       "      <td>True</td>\n",
       "      <td>32</td>\n",
       "      <td>0.021598</td>\n",
       "      <td>-0.351927</td>\n",
       "    </tr>\n",
       "    <tr>\n",
       "      <th>3</th>\n",
       "      <td>4g4XbueBXPakEKcHYSqqot76sGg1</td>\n",
       "      <td>Expert</td>\n",
       "      <td>No-Music</td>\n",
       "      <td>Untrained</td>\n",
       "      <td>True</td>\n",
       "      <td>32</td>\n",
       "      <td>0.032225</td>\n",
       "      <td>-0.360537</td>\n",
       "    </tr>\n",
       "    <tr>\n",
       "      <th>4</th>\n",
       "      <td>4g4XbueBXPakEKcHYSqqot76sGg1</td>\n",
       "      <td>Expert</td>\n",
       "      <td>No-Music</td>\n",
       "      <td>Untrained</td>\n",
       "      <td>True</td>\n",
       "      <td>32</td>\n",
       "      <td>0.042874</td>\n",
       "      <td>-0.364844</td>\n",
       "    </tr>\n",
       "    <tr>\n",
       "      <th>...</th>\n",
       "      <td>...</td>\n",
       "      <td>...</td>\n",
       "      <td>...</td>\n",
       "      <td>...</td>\n",
       "      <td>...</td>\n",
       "      <td>...</td>\n",
       "      <td>...</td>\n",
       "      <td>...</td>\n",
       "    </tr>\n",
       "    <tr>\n",
       "      <th>33906</th>\n",
       "      <td>RIneOAfWA6POfHcHOoYEDG1BF6T2</td>\n",
       "      <td>Expert</td>\n",
       "      <td>Music</td>\n",
       "      <td>Trained</td>\n",
       "      <td>True</td>\n",
       "      <td>30</td>\n",
       "      <td>0.875828</td>\n",
       "      <td>0.228205</td>\n",
       "    </tr>\n",
       "    <tr>\n",
       "      <th>33907</th>\n",
       "      <td>RIneOAfWA6POfHcHOoYEDG1BF6T2</td>\n",
       "      <td>Expert</td>\n",
       "      <td>Music</td>\n",
       "      <td>Trained</td>\n",
       "      <td>True</td>\n",
       "      <td>30</td>\n",
       "      <td>0.906090</td>\n",
       "      <td>0.300145</td>\n",
       "    </tr>\n",
       "    <tr>\n",
       "      <th>33908</th>\n",
       "      <td>RIneOAfWA6POfHcHOoYEDG1BF6T2</td>\n",
       "      <td>Expert</td>\n",
       "      <td>Music</td>\n",
       "      <td>Trained</td>\n",
       "      <td>True</td>\n",
       "      <td>30</td>\n",
       "      <td>0.937414</td>\n",
       "      <td>0.307353</td>\n",
       "    </tr>\n",
       "    <tr>\n",
       "      <th>33909</th>\n",
       "      <td>RIneOAfWA6POfHcHOoYEDG1BF6T2</td>\n",
       "      <td>Expert</td>\n",
       "      <td>Music</td>\n",
       "      <td>Trained</td>\n",
       "      <td>True</td>\n",
       "      <td>30</td>\n",
       "      <td>0.968801</td>\n",
       "      <td>0.368388</td>\n",
       "    </tr>\n",
       "    <tr>\n",
       "      <th>33910</th>\n",
       "      <td>RIneOAfWA6POfHcHOoYEDG1BF6T2</td>\n",
       "      <td>Expert</td>\n",
       "      <td>Music</td>\n",
       "      <td>Trained</td>\n",
       "      <td>True</td>\n",
       "      <td>30</td>\n",
       "      <td>1.000000</td>\n",
       "      <td>0.341493</td>\n",
       "    </tr>\n",
       "  </tbody>\n",
       "</table>\n",
       "<p>33911 rows × 8 columns</p>\n",
       "</div>"
      ],
      "text/plain": [
       "                            User ID   Skill Background   Training  Success  \\\n",
       "0      4g4XbueBXPakEKcHYSqqot76sGg1  Expert   No-Music  Untrained     True   \n",
       "1      4g4XbueBXPakEKcHYSqqot76sGg1  Expert   No-Music  Untrained     True   \n",
       "2      4g4XbueBXPakEKcHYSqqot76sGg1  Expert   No-Music  Untrained     True   \n",
       "3      4g4XbueBXPakEKcHYSqqot76sGg1  Expert   No-Music  Untrained     True   \n",
       "4      4g4XbueBXPakEKcHYSqqot76sGg1  Expert   No-Music  Untrained     True   \n",
       "...                             ...     ...        ...        ...      ...   \n",
       "33906  RIneOAfWA6POfHcHOoYEDG1BF6T2  Expert      Music    Trained     True   \n",
       "33907  RIneOAfWA6POfHcHOoYEDG1BF6T2  Expert      Music    Trained     True   \n",
       "33908  RIneOAfWA6POfHcHOoYEDG1BF6T2  Expert      Music    Trained     True   \n",
       "33909  RIneOAfWA6POfHcHOoYEDG1BF6T2  Expert      Music    Trained     True   \n",
       "33910  RIneOAfWA6POfHcHOoYEDG1BF6T2  Expert      Music    Trained     True   \n",
       "\n",
       "       Recognized pitch      Time  Semitones from target  \n",
       "0                    32  0.000000              -0.301919  \n",
       "1                    32  0.010670              -0.268139  \n",
       "2                    32  0.021598              -0.351927  \n",
       "3                    32  0.032225              -0.360537  \n",
       "4                    32  0.042874              -0.364844  \n",
       "...                 ...       ...                    ...  \n",
       "33906                30  0.875828               0.228205  \n",
       "33907                30  0.906090               0.300145  \n",
       "33908                30  0.937414               0.307353  \n",
       "33909                30  0.968801               0.368388  \n",
       "33910                30  1.000000               0.341493  \n",
       "\n",
       "[33911 rows x 8 columns]"
      ]
     },
     "execution_count": 35,
     "metadata": {},
     "output_type": "execute_result"
    }
   ],
   "source": [
    "freq_df = pd.read_csv(\"../data/discussion-pitch-semitones.csv\", index_col=0)\n",
    "freq_df"
   ]
  },
  {
   "cell_type": "code",
   "execution_count": 36,
   "metadata": {},
   "outputs": [],
   "source": [
    "from matplotlib import cm\n",
    "from matplotlib.colors import ListedColormap, LinearSegmentedColormap\n",
    "\n",
    "gradient_map = LinearSegmentedColormap(\n",
    "    \"test\",\n",
    "    {\n",
    "        \"red\": [\n",
    "            (0, 1, 1),\n",
    "            (0.1, 1, 1),\n",
    "            (0.5, 1, 1),\n",
    "            (0.75, 0.6, 0.6),\n",
    "            (1, 0, 0),\n",
    "        ],\n",
    "        \"green\": [\n",
    "            (0, 0.96, 0.96),\n",
    "            (0.1, 0.80, 0.80),\n",
    "            (0.5, 0.16, 0.16),\n",
    "            (0.75, 0, 0),\n",
    "            (1, 0, 0),\n",
    "        ],\n",
    "        \"blue\": [\n",
    "            (0, 0.9, 0.9),\n",
    "            (0.1, 0.0, 0.0),\n",
    "            (0.5, 0, 0),\n",
    "            (0.75, 1, 1),\n",
    "            (1, 0, 0),\n",
    "        ],\n",
    "    },\n",
    ")"
   ]
  },
  {
   "cell_type": "code",
   "execution_count": 37,
   "metadata": {},
   "outputs": [
    {
     "data": {
      "image/png": "[encoded data removed]",
      "text/plain": [
       "<Figure size 432x194.4 with 4 Axes>"
      ]
     },
     "metadata": {},
     "output_type": "display_data"
    }
   ],
   "source": [
    "import matplotlib.ticker as ticker\n",
    "\n",
    "bins = [x + 0.5 for x in range(-20, 19)]\n",
    "\n",
    "skills = [\"Novice\", \"Intermediate\", \"Expert\"]\n",
    "\n",
    "sns.set_style(\"white\", {\"axes.edgecolor\": \".8\"})\n",
    "fig = plt.figure(6)\n",
    "fig.set_figheight(2.7)\n",
    "gs = fig.add_gridspec(ncols=3, nrows=1, width_ratios=[2, 2, 2.25], wspace=0.1)\n",
    "\n",
    "for col, skill in enumerate(skills):\n",
    "    curr_df = pd.DataFrame(\n",
    "        freq_df[\n",
    "            (freq_df[\"Skill\"] == skill)\n",
    "            & (abs(freq_df[\"Semitones from target\"]) <= 20.5)\n",
    "        ]\n",
    "    )\n",
    "\n",
    "    ax = fig.add_subplot(gs[0, col])\n",
    "    sns.histplot(\n",
    "        x=\"Time\",\n",
    "        y=\"Semitones from target\",\n",
    "        bins=(15, bins),\n",
    "        data=curr_df,\n",
    "        cbar=(col == 2),\n",
    "        vmin=0,\n",
    "        vmax=1200,\n",
    "        pthresh=0.05,\n",
    "        cmap=gradient_map,\n",
    "        ax=ax,\n",
    "    )\n",
    "    ax.set(xlim=(0, 1), ylim=(-8.5, 8.5))\n",
    "    ax.set_xticks([0, 1])\n",
    "    ax.set_xticklabels([\"       Start\", \"End     \"])\n",
    "    ax.set_xlabel(wrap_factor(skill))\n",
    "    ax.tick_params(axis=\"y\", left=True, color=\"#CCCCCC\")\n",
    "\n",
    "    ax.yaxis.set_major_locator(ticker.MultipleLocator(4))\n",
    "    ax.yaxis.set_major_formatter(ticker.ScalarFormatter())\n",
    "    if col > 0:\n",
    "        ax.set_yticklabels([])\n",
    "        ax.set_ylabel(None)"
   ]
  }
 ],
 "metadata": {
  "kernelspec": {
   "display_name": "Python 3 (ipykernel)",
   "language": "python",
   "name": "python3"
  },
  "language_info": {
   "codemirror_mode": {
    "name": "ipython",
    "version": 3
   },
   "file_extension": ".py",
   "mimetype": "text/x-python",
   "name": "python",
   "nbconvert_exporter": "python",
   "pygments_lexer": "ipython3",
   "version": "3.9.10"
  }
 },
 "nbformat": 4,
 "nbformat_minor": 4
}
