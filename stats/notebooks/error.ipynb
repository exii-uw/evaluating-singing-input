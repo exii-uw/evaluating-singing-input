{
 "cells": [
  {
   "cell_type": "markdown",
   "metadata": {},
   "source": [
    "# Error Rates\n",
    "\n",
    "This evaluates the effect of various variables on *Error Rate*."
   ]
  },
  {
   "cell_type": "code",
   "execution_count": 1,
   "metadata": {},
   "outputs": [],
   "source": [
    "import numpy as np\n",
    "import pandas as pd\n",
    "import math\n",
    "import seaborn as sns\n",
    "import matplotlib.pyplot as plt\n",
    "import rpy2\n",
    "\n",
    "%load_ext rpy2.ipython\n",
    "%matplotlib inline"
   ]
  },
  {
   "cell_type": "code",
   "execution_count": 2,
   "metadata": {},
   "outputs": [],
   "source": [
    "reg_palette = sns.color_palette(\"colorblind\", 5)\n",
    "sns.set_palette(reg_palette)\n",
    "sns.set_style(\"whitegrid\")"
   ]
  },
  {
   "cell_type": "code",
   "execution_count": 3,
   "metadata": {},
   "outputs": [
    {
     "data": {
      "text/html": [
       "<div>\n",
       "<style scoped>\n",
       "    .dataframe tbody tr th:only-of-type {\n",
       "        vertical-align: middle;\n",
       "    }\n",
       "\n",
       "    .dataframe tbody tr th {\n",
       "        vertical-align: top;\n",
       "    }\n",
       "\n",
       "    .dataframe thead th {\n",
       "        text-align: right;\n",
       "    }\n",
       "</style>\n",
       "<table border=\"1\" class=\"dataframe\">\n",
       "  <thead>\n",
       "    <tr style=\"text-align: right;\">\n",
       "      <th></th>\n",
       "      <th>User ID</th>\n",
       "      <th>Technique</th>\n",
       "      <th>Skill</th>\n",
       "      <th>Training</th>\n",
       "      <th>Background</th>\n",
       "      <th>Error rate</th>\n",
       "    </tr>\n",
       "  </thead>\n",
       "  <tbody>\n",
       "    <tr>\n",
       "      <th>0</th>\n",
       "      <td>4g4XbueBXPakEKcHYSqqot76sGg1</td>\n",
       "      <td>Pitch</td>\n",
       "      <td>Expert</td>\n",
       "      <td>Untrained</td>\n",
       "      <td>No-Music</td>\n",
       "      <td>7.692308</td>\n",
       "    </tr>\n",
       "    <tr>\n",
       "      <th>1</th>\n",
       "      <td>4g4XbueBXPakEKcHYSqqot76sGg1</td>\n",
       "      <td>Pitch</td>\n",
       "      <td>Expert</td>\n",
       "      <td>Untrained</td>\n",
       "      <td>Music</td>\n",
       "      <td>0.000000</td>\n",
       "    </tr>\n",
       "    <tr>\n",
       "      <th>2</th>\n",
       "      <td>4g4XbueBXPakEKcHYSqqot76sGg1</td>\n",
       "      <td>Pitch</td>\n",
       "      <td>Expert</td>\n",
       "      <td>Trained</td>\n",
       "      <td>No-Music</td>\n",
       "      <td>0.000000</td>\n",
       "    </tr>\n",
       "    <tr>\n",
       "      <th>3</th>\n",
       "      <td>4g4XbueBXPakEKcHYSqqot76sGg1</td>\n",
       "      <td>Pitch</td>\n",
       "      <td>Expert</td>\n",
       "      <td>Trained</td>\n",
       "      <td>Music</td>\n",
       "      <td>0.000000</td>\n",
       "    </tr>\n",
       "    <tr>\n",
       "      <th>4</th>\n",
       "      <td>4g4XbueBXPakEKcHYSqqot76sGg1</td>\n",
       "      <td>Interval</td>\n",
       "      <td>Expert</td>\n",
       "      <td>Untrained</td>\n",
       "      <td>No-Music</td>\n",
       "      <td>14.285714</td>\n",
       "    </tr>\n",
       "    <tr>\n",
       "      <th>...</th>\n",
       "      <td>...</td>\n",
       "      <td>...</td>\n",
       "      <td>...</td>\n",
       "      <td>...</td>\n",
       "      <td>...</td>\n",
       "      <td>...</td>\n",
       "    </tr>\n",
       "    <tr>\n",
       "      <th>247</th>\n",
       "      <td>RIneOAfWA6POfHcHOoYEDG1BF6T2</td>\n",
       "      <td>Interval</td>\n",
       "      <td>Expert</td>\n",
       "      <td>Trained</td>\n",
       "      <td>Music</td>\n",
       "      <td>7.142857</td>\n",
       "    </tr>\n",
       "    <tr>\n",
       "      <th>248</th>\n",
       "      <td>RIneOAfWA6POfHcHOoYEDG1BF6T2</td>\n",
       "      <td>Melody</td>\n",
       "      <td>Expert</td>\n",
       "      <td>Untrained</td>\n",
       "      <td>No-Music</td>\n",
       "      <td>7.692308</td>\n",
       "    </tr>\n",
       "    <tr>\n",
       "      <th>249</th>\n",
       "      <td>RIneOAfWA6POfHcHOoYEDG1BF6T2</td>\n",
       "      <td>Melody</td>\n",
       "      <td>Expert</td>\n",
       "      <td>Untrained</td>\n",
       "      <td>Music</td>\n",
       "      <td>28.571429</td>\n",
       "    </tr>\n",
       "    <tr>\n",
       "      <th>250</th>\n",
       "      <td>RIneOAfWA6POfHcHOoYEDG1BF6T2</td>\n",
       "      <td>Melody</td>\n",
       "      <td>Expert</td>\n",
       "      <td>Trained</td>\n",
       "      <td>No-Music</td>\n",
       "      <td>0.000000</td>\n",
       "    </tr>\n",
       "    <tr>\n",
       "      <th>251</th>\n",
       "      <td>RIneOAfWA6POfHcHOoYEDG1BF6T2</td>\n",
       "      <td>Melody</td>\n",
       "      <td>Expert</td>\n",
       "      <td>Trained</td>\n",
       "      <td>Music</td>\n",
       "      <td>7.142857</td>\n",
       "    </tr>\n",
       "  </tbody>\n",
       "</table>\n",
       "<p>252 rows × 6 columns</p>\n",
       "</div>"
      ],
      "text/plain": [
       "                          User ID Technique   Skill   Training Background  \\\n",
       "0    4g4XbueBXPakEKcHYSqqot76sGg1     Pitch  Expert  Untrained   No-Music   \n",
       "1    4g4XbueBXPakEKcHYSqqot76sGg1     Pitch  Expert  Untrained      Music   \n",
       "2    4g4XbueBXPakEKcHYSqqot76sGg1     Pitch  Expert    Trained   No-Music   \n",
       "3    4g4XbueBXPakEKcHYSqqot76sGg1     Pitch  Expert    Trained      Music   \n",
       "4    4g4XbueBXPakEKcHYSqqot76sGg1  Interval  Expert  Untrained   No-Music   \n",
       "..                            ...       ...     ...        ...        ...   \n",
       "247  RIneOAfWA6POfHcHOoYEDG1BF6T2  Interval  Expert    Trained      Music   \n",
       "248  RIneOAfWA6POfHcHOoYEDG1BF6T2    Melody  Expert  Untrained   No-Music   \n",
       "249  RIneOAfWA6POfHcHOoYEDG1BF6T2    Melody  Expert  Untrained      Music   \n",
       "250  RIneOAfWA6POfHcHOoYEDG1BF6T2    Melody  Expert    Trained   No-Music   \n",
       "251  RIneOAfWA6POfHcHOoYEDG1BF6T2    Melody  Expert    Trained      Music   \n",
       "\n",
       "     Error rate  \n",
       "0      7.692308  \n",
       "1      0.000000  \n",
       "2      0.000000  \n",
       "3      0.000000  \n",
       "4     14.285714  \n",
       "..          ...  \n",
       "247    7.142857  \n",
       "248    7.692308  \n",
       "249   28.571429  \n",
       "250    0.000000  \n",
       "251    7.142857  \n",
       "\n",
       "[252 rows x 6 columns]"
      ]
     },
     "execution_count": 3,
     "metadata": {},
     "output_type": "execute_result"
    }
   ],
   "source": [
    "df = pd.read_csv(\"../data/error.csv\", index_col=0)\n",
    "df"
   ]
  },
  {
   "cell_type": "code",
   "execution_count": 32,
   "metadata": {},
   "outputs": [],
   "source": [
    "%%R -i df\n",
    "\n",
    "library(ARTool) # art, artlm\n",
    "\n",
    "# Sanitize dataframe column names\n",
    "library(janitor)\n",
    "df <- clean_names(df)\n",
    "\n",
    "df$technique <- factor(df$technique)\n",
    "df$skill <- factor(df$skill)\n",
    "df$background <- factor(df$background)\n",
    "df$training <- factor(df$training)\n",
    "df$user_id <- factor(df$user_id)"
   ]
  },
  {
   "cell_type": "markdown",
   "metadata": {},
   "source": [
    "# Error Rate Stats"
   ]
  },
  {
   "cell_type": "markdown",
   "metadata": {},
   "source": [
    "## Test for normality"
   ]
  },
  {
   "cell_type": "code",
   "execution_count": 5,
   "metadata": {},
   "outputs": [
    {
     "data": {
      "image/png": "[encoded data removed]"
     },
     "metadata": {},
     "output_type": "display_data"
    },
    {
     "data": {
      "image/png": "[encoded data removed]"
     },
     "metadata": {},
     "output_type": "display_data"
    }
   ],
   "source": [
    "%%R\n",
    "m = aov(error_rate ~ technique*skill, data=df)\n",
    "res = residuals(m)\n",
    "qqnorm(res)\n",
    "qqline(res)\n",
    "hist(res)"
   ]
  },
  {
   "cell_type": "markdown",
   "metadata": {},
   "source": [
    "## Pitch: Background X Training X Skill ANOVA"
   ]
  },
  {
   "cell_type": "code",
   "execution_count": 6,
   "metadata": {},
   "outputs": [
    {
     "name": "stdout",
     "output_type": "stream",
     "text": [
      "Aligned Rank Transform of Factorial Model\n",
      "\n",
      "Call:\n",
      "art(formula = error_rate ~ skill * training * background + Error(user_id/(training * \n",
      "    background)) + skill, data = pitch_df)\n",
      "\n",
      "Column sums of aligned responses (should all be ~0):\n",
      "                    skill                  training                background \n",
      "                        0                         0                         0 \n",
      "           skill:training          skill:background       training:background \n",
      "                        0                         0                         0 \n",
      "skill:training:background \n",
      "                        0 \n",
      "\n",
      "F values of ANOVAs on aligned responses not of interest (should all be ~0):\n",
      "   Min. 1st Qu.  Median    Mean 3rd Qu.    Max. \n",
      "      0       0       0       0       0       0 \n"
     ]
    }
   ],
   "source": [
    "%%R\n",
    "pitch_df <- subset(df, technique == \"Pitch\")\n",
    "pitch_df_art <- art(error_rate ~ skill * training * background + Error(user_id / (training * background)) + skill, data = pitch_df)\n",
    "summary(pitch_df_art)"
   ]
  },
  {
   "cell_type": "code",
   "execution_count": 7,
   "metadata": {},
   "outputs": [
    {
     "name": "stdout",
     "output_type": "stream",
     "text": [
      "Analysis of Variance of Aligned Rank Transformed Data\n",
      "\n",
      "Table Type: Repeated Measures Analysis of Variance Table (Type I) \n",
      "Model: Repeated Measures (aov)\n",
      "Response: art(error_rate)\n",
      "\n",
      "                              Error Df Df.res F value     Pr(>F) eta.sq.part\n",
      "1 skill                       usr_d  2     18 43.7307 1.2292e-07    0.829321\n",
      "2 training                  usr_d:t  1     18 43.5226 3.3961e-06    0.707425\n",
      "3 background                usr_d:b  1     18  4.1121   0.057643    0.185968\n",
      "4 skill:training            usr_d:t  2     18  3.7355   0.043959    0.293313\n",
      "5 skill:background          usr_d:b  2     18  1.3860   0.275519    0.133448\n",
      "6 training:background         us_::  1     18  1.3727   0.256622    0.070858\n",
      "7 skill:training:background   us_::  2     18  1.4223   0.267006    0.136465\n",
      "                               \n",
      "1 skill                     ***\n",
      "2 training                  ***\n",
      "3 background                  .\n",
      "4 skill:training              *\n",
      "5 skill:background             \n",
      "6 training:background          \n",
      "7 skill:training:background    \n",
      "---\n",
      "Signif. codes:   0 ‘***’ 0.001 ‘**’ 0.01 ‘*’ 0.05 ‘.’ 0.1 ‘ ’ 1 \n"
     ]
    }
   ],
   "source": [
    "%%R\n",
    "m = anova(pitch_df_art)\n",
    "m$eta.sq.part = with(m, `Sum Sq`/(`Sum Sq` + `Sum Sq.res`))\n",
    "print(m)"
   ]
  },
  {
   "cell_type": "markdown",
   "metadata": {},
   "source": [
    "### Pitch post-hoc: Skill"
   ]
  },
  {
   "cell_type": "code",
   "execution_count": 8,
   "metadata": {},
   "outputs": [
    {
     "name": "stdout",
     "output_type": "stream",
     "text": [
      " contrast              estimate   SE df t.ratio p.value\n",
      " Expert - Intermediate    -26.4 4.94 18  -5.344  0.0001\n",
      " Expert - Novice          -43.8 4.73 18  -9.254  <.0001\n",
      " Intermediate - Novice    -17.4 5.08 18  -3.421  0.0081\n",
      "\n",
      "Results are averaged over the levels of: training, background \n",
      "P value adjustment: tukey method for comparing a family of 3 estimates \n"
     ]
    }
   ],
   "source": [
    "%%R\n",
    "suppressMessages(art.con(pitch_df_art, \"skill\", interaction = FALSE))"
   ]
  },
  {
   "cell_type": "code",
   "execution_count": 9,
   "metadata": {},
   "outputs": [
    {
     "data": {
      "text/html": [
       "<div>\n",
       "<style scoped>\n",
       "    .dataframe tbody tr th:only-of-type {\n",
       "        vertical-align: middle;\n",
       "    }\n",
       "\n",
       "    .dataframe tbody tr th {\n",
       "        vertical-align: top;\n",
       "    }\n",
       "\n",
       "    .dataframe thead th {\n",
       "        text-align: right;\n",
       "    }\n",
       "</style>\n",
       "<table border=\"1\" class=\"dataframe\">\n",
       "  <thead>\n",
       "    <tr style=\"text-align: right;\">\n",
       "      <th></th>\n",
       "      <th>Error rate</th>\n",
       "    </tr>\n",
       "    <tr>\n",
       "      <th>Skill</th>\n",
       "      <th></th>\n",
       "    </tr>\n",
       "  </thead>\n",
       "  <tbody>\n",
       "    <tr>\n",
       "      <th>Expert</th>\n",
       "      <td>10.602679</td>\n",
       "    </tr>\n",
       "    <tr>\n",
       "      <th>Intermediate</th>\n",
       "      <td>35.805861</td>\n",
       "    </tr>\n",
       "    <tr>\n",
       "      <th>Novice</th>\n",
       "      <td>59.635008</td>\n",
       "    </tr>\n",
       "  </tbody>\n",
       "</table>\n",
       "</div>"
      ],
      "text/plain": [
       "              Error rate\n",
       "Skill                   \n",
       "Expert         10.602679\n",
       "Intermediate   35.805861\n",
       "Novice         59.635008"
      ]
     },
     "execution_count": 9,
     "metadata": {},
     "output_type": "execute_result"
    }
   ],
   "source": [
    "df[(df[\"Technique\"] == \"Pitch\")].groupby([\"Skill\"]).mean()"
   ]
  },
  {
   "cell_type": "markdown",
   "metadata": {},
   "source": [
    "### Pitch post-hoc: Training"
   ]
  },
  {
   "cell_type": "code",
   "execution_count": 10,
   "metadata": {},
   "outputs": [
    {
     "name": "stdout",
     "output_type": "stream",
     "text": [
      " contrast            estimate   SE df t.ratio p.value\n",
      " Trained - Untrained    -31.5 4.83 18  -6.514  <.0001\n",
      "\n",
      "Results are averaged over the levels of: skill, background \n"
     ]
    }
   ],
   "source": [
    "%%R\n",
    "suppressMessages(art.con(pitch_df_art, \"training\", interaction = FALSE))"
   ]
  },
  {
   "cell_type": "code",
   "execution_count": 11,
   "metadata": {},
   "outputs": [
    {
     "data": {
      "text/html": [
       "<div>\n",
       "<style scoped>\n",
       "    .dataframe tbody tr th:only-of-type {\n",
       "        vertical-align: middle;\n",
       "    }\n",
       "\n",
       "    .dataframe tbody tr th {\n",
       "        vertical-align: top;\n",
       "    }\n",
       "\n",
       "    .dataframe thead th {\n",
       "        text-align: right;\n",
       "    }\n",
       "</style>\n",
       "<table border=\"1\" class=\"dataframe\">\n",
       "  <thead>\n",
       "    <tr style=\"text-align: right;\">\n",
       "      <th></th>\n",
       "      <th>Error rate</th>\n",
       "    </tr>\n",
       "    <tr>\n",
       "      <th>Training</th>\n",
       "      <th></th>\n",
       "    </tr>\n",
       "  </thead>\n",
       "  <tbody>\n",
       "    <tr>\n",
       "      <th>Trained</th>\n",
       "      <td>19.557823</td>\n",
       "    </tr>\n",
       "    <tr>\n",
       "      <th>Untrained</th>\n",
       "      <td>48.737572</td>\n",
       "    </tr>\n",
       "  </tbody>\n",
       "</table>\n",
       "</div>"
      ],
      "text/plain": [
       "           Error rate\n",
       "Training             \n",
       "Trained     19.557823\n",
       "Untrained   48.737572"
      ]
     },
     "execution_count": 11,
     "metadata": {},
     "output_type": "execute_result"
    }
   ],
   "source": [
    "df[(df[\"Technique\"] == \"Pitch\")].groupby([\"Training\"]).mean()"
   ]
  },
  {
   "cell_type": "markdown",
   "metadata": {},
   "source": [
    "### Pitch post-hoc: Skill X Training"
   ]
  },
  {
   "cell_type": "code",
   "execution_count": 12,
   "metadata": {},
   "outputs": [
    {
     "name": "stdout",
     "output_type": "stream",
     "text": [
      " skill_pairwise        training_pairwise   estimate   SE df t.ratio p.value\n",
      " Expert - Intermediate Trained - Untrained     41.2 15.2 18   2.718  0.0141\n",
      " Expert - Novice       Trained - Untrained     21.4 14.5 18   1.471  0.1585\n",
      " Intermediate - Novice Trained - Untrained    -19.9 15.6 18  -1.270  0.2202\n",
      "\n",
      "Results are averaged over the levels of: background \n"
     ]
    }
   ],
   "source": [
    "%%R\n",
    "suppressMessages(art.con(pitch_df_art, \"skill:training\", interaction = TRUE))"
   ]
  },
  {
   "cell_type": "code",
   "execution_count": 13,
   "metadata": {},
   "outputs": [
    {
     "data": {
      "text/html": [
       "<div>\n",
       "<style scoped>\n",
       "    .dataframe tbody tr th:only-of-type {\n",
       "        vertical-align: middle;\n",
       "    }\n",
       "\n",
       "    .dataframe tbody tr th {\n",
       "        vertical-align: top;\n",
       "    }\n",
       "\n",
       "    .dataframe thead th {\n",
       "        text-align: right;\n",
       "    }\n",
       "</style>\n",
       "<table border=\"1\" class=\"dataframe\">\n",
       "  <thead>\n",
       "    <tr style=\"text-align: right;\">\n",
       "      <th></th>\n",
       "      <th></th>\n",
       "      <th>Error rate</th>\n",
       "    </tr>\n",
       "    <tr>\n",
       "      <th>Skill</th>\n",
       "      <th>Training</th>\n",
       "      <th></th>\n",
       "    </tr>\n",
       "  </thead>\n",
       "  <tbody>\n",
       "    <tr>\n",
       "      <th rowspan=\"2\" valign=\"top\">Expert</th>\n",
       "      <th>Trained</th>\n",
       "      <td>1.339286</td>\n",
       "    </tr>\n",
       "    <tr>\n",
       "      <th>Untrained</th>\n",
       "      <td>19.866071</td>\n",
       "    </tr>\n",
       "    <tr>\n",
       "      <th rowspan=\"2\" valign=\"top\">Intermediate</th>\n",
       "      <th>Trained</th>\n",
       "      <td>13.095238</td>\n",
       "    </tr>\n",
       "    <tr>\n",
       "      <th>Untrained</th>\n",
       "      <td>58.516484</td>\n",
       "    </tr>\n",
       "    <tr>\n",
       "      <th rowspan=\"2\" valign=\"top\">Novice</th>\n",
       "      <th>Trained</th>\n",
       "      <td>45.918367</td>\n",
       "    </tr>\n",
       "    <tr>\n",
       "      <th>Untrained</th>\n",
       "      <td>73.351648</td>\n",
       "    </tr>\n",
       "  </tbody>\n",
       "</table>\n",
       "</div>"
      ],
      "text/plain": [
       "                        Error rate\n",
       "Skill        Training             \n",
       "Expert       Trained      1.339286\n",
       "             Untrained   19.866071\n",
       "Intermediate Trained     13.095238\n",
       "             Untrained   58.516484\n",
       "Novice       Trained     45.918367\n",
       "             Untrained   73.351648"
      ]
     },
     "execution_count": 13,
     "metadata": {},
     "output_type": "execute_result"
    }
   ],
   "source": [
    "df[(df[\"Technique\"] == \"Pitch\")].groupby([\"Skill\", \"Training\"]).mean()"
   ]
  },
  {
   "cell_type": "markdown",
   "metadata": {},
   "source": [
    "## Interval: Background X Training X Skill ANOVA"
   ]
  },
  {
   "cell_type": "code",
   "execution_count": 14,
   "metadata": {},
   "outputs": [
    {
     "name": "stdout",
     "output_type": "stream",
     "text": [
      "Aligned Rank Transform of Factorial Model\n",
      "\n",
      "Call:\n",
      "art(formula = error_rate ~ skill * training * background + Error(user_id/(training * \n",
      "    background)) + skill, data = interval_df)\n",
      "\n",
      "Column sums of aligned responses (should all be ~0):\n",
      "                    skill                  training                background \n",
      "                        0                         0                         0 \n",
      "           skill:training          skill:background       training:background \n",
      "                        0                         0                         0 \n",
      "skill:training:background \n",
      "                        0 \n",
      "\n",
      "F values of ANOVAs on aligned responses not of interest (should all be ~0):\n",
      "   Min. 1st Qu.  Median    Mean 3rd Qu.    Max. \n",
      "      0       0       0       0       0       0 \n"
     ]
    }
   ],
   "source": [
    "%%R\n",
    "interval_df <- subset(df, technique == \"Interval\")\n",
    "interval_df_art <- art(error_rate ~ skill * training * background + Error(user_id / (training * background)) + skill, data = interval_df)\n",
    "summary(interval_df_art)"
   ]
  },
  {
   "cell_type": "code",
   "execution_count": 15,
   "metadata": {},
   "outputs": [
    {
     "name": "stdout",
     "output_type": "stream",
     "text": [
      "Analysis of Variance of Aligned Rank Transformed Data\n",
      "\n",
      "Table Type: Repeated Measures Analysis of Variance Table (Type I) \n",
      "Model: Repeated Measures (aov)\n",
      "Response: art(error_rate)\n",
      "\n",
      "                              Error Df Df.res  F value     Pr(>F) eta.sq.part\n",
      "1 skill                       usr_d  2     18 22.33440 1.3304e-05    0.712776\n",
      "2 training                  usr_d:t  1     18  9.28408   0.006938    0.340275\n",
      "3 background                usr_d:b  1     18  0.28317   0.601140    0.015488\n",
      "4 skill:training            usr_d:t  2     18  3.94407   0.037979    0.304701\n",
      "5 skill:background          usr_d:b  2     18  0.12359   0.884482    0.013547\n",
      "6 training:background         us_::  1     18  6.31442   0.021720    0.259699\n",
      "7 skill:training:background   us_::  2     18  2.25508   0.133674    0.200361\n",
      "                               \n",
      "1 skill                     ***\n",
      "2 training                   **\n",
      "3 background                   \n",
      "4 skill:training              *\n",
      "5 skill:background             \n",
      "6 training:background         *\n",
      "7 skill:training:background    \n",
      "---\n",
      "Signif. codes:   0 ‘***’ 0.001 ‘**’ 0.01 ‘*’ 0.05 ‘.’ 0.1 ‘ ’ 1 \n"
     ]
    }
   ],
   "source": [
    "%%R\n",
    "m = anova(interval_df_art)\n",
    "m$eta.sq.part = with(m, `Sum Sq`/(`Sum Sq` + `Sum Sq.res`))\n",
    "print(m)"
   ]
  },
  {
   "cell_type": "markdown",
   "metadata": {},
   "source": [
    "### Interval post-hoc: Skill"
   ]
  },
  {
   "cell_type": "code",
   "execution_count": 16,
   "metadata": {},
   "outputs": [
    {
     "name": "stdout",
     "output_type": "stream",
     "text": [
      " contrast              estimate   SE df t.ratio p.value\n",
      " Expert - Intermediate    -26.1 6.31 18  -4.129  0.0017\n",
      " Expert - Novice          -39.6 6.05 18  -6.547  <.0001\n",
      " Intermediate - Novice    -13.5 6.51 18  -2.083  0.1217\n",
      "\n",
      "Results are averaged over the levels of: training, background \n",
      "P value adjustment: tukey method for comparing a family of 3 estimates \n"
     ]
    }
   ],
   "source": [
    "%%R\n",
    "suppressMessages(art.con(interval_df_art, \"skill\", interaction = FALSE))"
   ]
  },
  {
   "cell_type": "code",
   "execution_count": 17,
   "metadata": {},
   "outputs": [
    {
     "data": {
      "text/html": [
       "<div>\n",
       "<style scoped>\n",
       "    .dataframe tbody tr th:only-of-type {\n",
       "        vertical-align: middle;\n",
       "    }\n",
       "\n",
       "    .dataframe tbody tr th {\n",
       "        vertical-align: top;\n",
       "    }\n",
       "\n",
       "    .dataframe thead th {\n",
       "        text-align: right;\n",
       "    }\n",
       "</style>\n",
       "<table border=\"1\" class=\"dataframe\">\n",
       "  <thead>\n",
       "    <tr style=\"text-align: right;\">\n",
       "      <th></th>\n",
       "      <th>Error rate</th>\n",
       "    </tr>\n",
       "    <tr>\n",
       "      <th>Skill</th>\n",
       "      <th></th>\n",
       "    </tr>\n",
       "  </thead>\n",
       "  <tbody>\n",
       "    <tr>\n",
       "      <th>Expert</th>\n",
       "      <td>8.364812</td>\n",
       "    </tr>\n",
       "    <tr>\n",
       "      <th>Intermediate</th>\n",
       "      <td>30.059524</td>\n",
       "    </tr>\n",
       "    <tr>\n",
       "      <th>Novice</th>\n",
       "      <td>50.883046</td>\n",
       "    </tr>\n",
       "  </tbody>\n",
       "</table>\n",
       "</div>"
      ],
      "text/plain": [
       "              Error rate\n",
       "Skill                   \n",
       "Expert          8.364812\n",
       "Intermediate   30.059524\n",
       "Novice         50.883046"
      ]
     },
     "execution_count": 17,
     "metadata": {},
     "output_type": "execute_result"
    }
   ],
   "source": [
    "df[(df[\"Technique\"] == \"Interval\")].groupby([\"Skill\"]).mean()"
   ]
  },
  {
   "cell_type": "markdown",
   "metadata": {},
   "source": [
    "### Interval post-hoc: Training"
   ]
  },
  {
   "cell_type": "code",
   "execution_count": 18,
   "metadata": {},
   "outputs": [
    {
     "name": "stdout",
     "output_type": "stream",
     "text": [
      " contrast            estimate   SE df t.ratio p.value\n",
      " Trained - Untrained    -19.2 6.44 18  -2.990  0.0078\n",
      "\n",
      "Results are averaged over the levels of: skill, background \n"
     ]
    }
   ],
   "source": [
    "%%R\n",
    "suppressMessages(art.con(interval_df_art, \"training\", interaction = FALSE))"
   ]
  },
  {
   "cell_type": "code",
   "execution_count": 19,
   "metadata": {},
   "outputs": [
    {
     "data": {
      "text/html": [
       "<div>\n",
       "<style scoped>\n",
       "    .dataframe tbody tr th:only-of-type {\n",
       "        vertical-align: middle;\n",
       "    }\n",
       "\n",
       "    .dataframe tbody tr th {\n",
       "        vertical-align: top;\n",
       "    }\n",
       "\n",
       "    .dataframe thead th {\n",
       "        text-align: right;\n",
       "    }\n",
       "</style>\n",
       "<table border=\"1\" class=\"dataframe\">\n",
       "  <thead>\n",
       "    <tr style=\"text-align: right;\">\n",
       "      <th></th>\n",
       "      <th>Error rate</th>\n",
       "    </tr>\n",
       "    <tr>\n",
       "      <th>Training</th>\n",
       "      <th></th>\n",
       "    </tr>\n",
       "  </thead>\n",
       "  <tbody>\n",
       "    <tr>\n",
       "      <th>Trained</th>\n",
       "      <td>20.881301</td>\n",
       "    </tr>\n",
       "    <tr>\n",
       "      <th>Untrained</th>\n",
       "      <td>36.590790</td>\n",
       "    </tr>\n",
       "  </tbody>\n",
       "</table>\n",
       "</div>"
      ],
      "text/plain": [
       "           Error rate\n",
       "Training             \n",
       "Trained     20.881301\n",
       "Untrained   36.590790"
      ]
     },
     "execution_count": 19,
     "metadata": {},
     "output_type": "execute_result"
    }
   ],
   "source": [
    "df[(df[\"Technique\"] == \"Interval\")].groupby([\"Training\"]).mean()"
   ]
  },
  {
   "cell_type": "markdown",
   "metadata": {},
   "source": [
    "### Interval post-hoc: Skill X Training"
   ]
  },
  {
   "cell_type": "code",
   "execution_count": 20,
   "metadata": {},
   "outputs": [
    {
     "name": "stdout",
     "output_type": "stream",
     "text": [
      " skill_pairwise        training_pairwise   estimate   SE df t.ratio p.value\n",
      " Expert - Intermediate Trained - Untrained     28.2 15.5 18   1.823  0.0850\n",
      " Expert - Novice       Trained - Untrained     40.5 14.8 18   2.726  0.0139\n",
      " Intermediate - Novice Trained - Untrained     12.2 16.0 18   0.766  0.4533\n",
      "\n",
      "Results are averaged over the levels of: background \n"
     ]
    }
   ],
   "source": [
    "%%R\n",
    "suppressMessages(art.con(interval_df_art, \"skill:training\", interaction = TRUE))"
   ]
  },
  {
   "cell_type": "code",
   "execution_count": 21,
   "metadata": {},
   "outputs": [
    {
     "data": {
      "text/html": [
       "<div>\n",
       "<style scoped>\n",
       "    .dataframe tbody tr th:only-of-type {\n",
       "        vertical-align: middle;\n",
       "    }\n",
       "\n",
       "    .dataframe tbody tr th {\n",
       "        vertical-align: top;\n",
       "    }\n",
       "\n",
       "    .dataframe thead th {\n",
       "        text-align: right;\n",
       "    }\n",
       "</style>\n",
       "<table border=\"1\" class=\"dataframe\">\n",
       "  <thead>\n",
       "    <tr style=\"text-align: right;\">\n",
       "      <th></th>\n",
       "      <th></th>\n",
       "      <th>Error rate</th>\n",
       "    </tr>\n",
       "    <tr>\n",
       "      <th>Skill</th>\n",
       "      <th>Training</th>\n",
       "      <th></th>\n",
       "    </tr>\n",
       "  </thead>\n",
       "  <tbody>\n",
       "    <tr>\n",
       "      <th rowspan=\"2\" valign=\"top\">Expert</th>\n",
       "      <th>Trained</th>\n",
       "      <td>8.590888</td>\n",
       "    </tr>\n",
       "    <tr>\n",
       "      <th>Untrained</th>\n",
       "      <td>8.138736</td>\n",
       "    </tr>\n",
       "    <tr>\n",
       "      <th rowspan=\"2\" valign=\"top\">Intermediate</th>\n",
       "      <th>Trained</th>\n",
       "      <td>21.108059</td>\n",
       "    </tr>\n",
       "    <tr>\n",
       "      <th>Untrained</th>\n",
       "      <td>39.010989</td>\n",
       "    </tr>\n",
       "    <tr>\n",
       "      <th rowspan=\"2\" valign=\"top\">Novice</th>\n",
       "      <th>Trained</th>\n",
       "      <td>34.733124</td>\n",
       "    </tr>\n",
       "    <tr>\n",
       "      <th>Untrained</th>\n",
       "      <td>67.032967</td>\n",
       "    </tr>\n",
       "  </tbody>\n",
       "</table>\n",
       "</div>"
      ],
      "text/plain": [
       "                        Error rate\n",
       "Skill        Training             \n",
       "Expert       Trained      8.590888\n",
       "             Untrained    8.138736\n",
       "Intermediate Trained     21.108059\n",
       "             Untrained   39.010989\n",
       "Novice       Trained     34.733124\n",
       "             Untrained   67.032967"
      ]
     },
     "execution_count": 21,
     "metadata": {},
     "output_type": "execute_result"
    }
   ],
   "source": [
    "df[(df[\"Technique\"] == \"Interval\")].groupby([\"Skill\", \"Training\"]).mean()"
   ]
  },
  {
   "cell_type": "markdown",
   "metadata": {},
   "source": [
    "### Interval post-hoc: Training X Background"
   ]
  },
  {
   "cell_type": "code",
   "execution_count": 22,
   "metadata": {},
   "outputs": [
    {
     "name": "stdout",
     "output_type": "stream",
     "text": [
      " training_pairwise   background_pairwise estimate   SE df t.ratio p.value\n",
      " Trained - Untrained Music - (No-Music)      17.9 7.29 18   2.452  0.0246\n",
      "\n",
      "Results are averaged over the levels of: skill \n"
     ]
    }
   ],
   "source": [
    "%%R\n",
    "suppressMessages(art.con(interval_df_art, \"training:background\", interaction = TRUE))"
   ]
  },
  {
   "cell_type": "code",
   "execution_count": 23,
   "metadata": {},
   "outputs": [
    {
     "data": {
      "text/html": [
       "<div>\n",
       "<style scoped>\n",
       "    .dataframe tbody tr th:only-of-type {\n",
       "        vertical-align: middle;\n",
       "    }\n",
       "\n",
       "    .dataframe tbody tr th {\n",
       "        vertical-align: top;\n",
       "    }\n",
       "\n",
       "    .dataframe thead th {\n",
       "        text-align: right;\n",
       "    }\n",
       "</style>\n",
       "<table border=\"1\" class=\"dataframe\">\n",
       "  <thead>\n",
       "    <tr style=\"text-align: right;\">\n",
       "      <th></th>\n",
       "      <th></th>\n",
       "      <th>Error rate</th>\n",
       "    </tr>\n",
       "    <tr>\n",
       "      <th>Background</th>\n",
       "      <th>Training</th>\n",
       "      <th></th>\n",
       "    </tr>\n",
       "  </thead>\n",
       "  <tbody>\n",
       "    <tr>\n",
       "      <th rowspan=\"2\" valign=\"top\">Music</th>\n",
       "      <th>Trained</th>\n",
       "      <td>22.291994</td>\n",
       "    </tr>\n",
       "    <tr>\n",
       "      <th>Untrained</th>\n",
       "      <td>32.234432</td>\n",
       "    </tr>\n",
       "    <tr>\n",
       "      <th rowspan=\"2\" valign=\"top\">No-Music</th>\n",
       "      <th>Trained</th>\n",
       "      <td>19.470609</td>\n",
       "    </tr>\n",
       "    <tr>\n",
       "      <th>Untrained</th>\n",
       "      <td>40.947148</td>\n",
       "    </tr>\n",
       "  </tbody>\n",
       "</table>\n",
       "</div>"
      ],
      "text/plain": [
       "                      Error rate\n",
       "Background Training             \n",
       "Music      Trained     22.291994\n",
       "           Untrained   32.234432\n",
       "No-Music   Trained     19.470609\n",
       "           Untrained   40.947148"
      ]
     },
     "execution_count": 23,
     "metadata": {},
     "output_type": "execute_result"
    }
   ],
   "source": [
    "df[(df[\"Technique\"] == \"Interval\")].groupby([\"Background\", \"Training\"]).mean()"
   ]
  },
  {
   "cell_type": "markdown",
   "metadata": {},
   "source": [
    "## Melody: Background X Training X Skill ANOVA"
   ]
  },
  {
   "cell_type": "code",
   "execution_count": 24,
   "metadata": {},
   "outputs": [
    {
     "name": "stdout",
     "output_type": "stream",
     "text": [
      "Aligned Rank Transform of Factorial Model\n",
      "\n",
      "Call:\n",
      "art(formula = error_rate ~ skill * training * background + Error(user_id/(training * \n",
      "    background)) + skill, data = melody_df)\n",
      "\n",
      "Column sums of aligned responses (should all be ~0):\n",
      "                    skill                  training                background \n",
      "                        0                         0                         0 \n",
      "           skill:training          skill:background       training:background \n",
      "                        0                         0                         0 \n",
      "skill:training:background \n",
      "                        0 \n",
      "\n",
      "F values of ANOVAs on aligned responses not of interest (should all be ~0):\n",
      "   Min. 1st Qu.  Median    Mean 3rd Qu.    Max. \n",
      "      0       0       0       0       0       0 \n"
     ]
    }
   ],
   "source": [
    "%%R\n",
    "melody_df <- subset(df, technique == \"Melody\")\n",
    "melody_df_art <- art(error_rate ~ skill * training * background + Error(user_id / (training * background)) + skill, data = melody_df)\n",
    "summary(melody_df_art)"
   ]
  },
  {
   "cell_type": "code",
   "execution_count": 25,
   "metadata": {},
   "outputs": [
    {
     "name": "stdout",
     "output_type": "stream",
     "text": [
      "Analysis of Variance of Aligned Rank Transformed Data\n",
      "\n",
      "Table Type: Repeated Measures Analysis of Variance Table (Type I) \n",
      "Model: Repeated Measures (aov)\n",
      "Response: art(error_rate)\n",
      "\n",
      "                              Error Df Df.res F value     Pr(>F) eta.sq.part\n",
      "1 skill                       usr_d  2     18 54.7717 2.2209e-08    0.858872\n",
      "2 training                  usr_d:t  1     18  4.8230   0.041426    0.211323\n",
      "3 background                usr_d:b  1     18  1.7853   0.198145    0.090235\n",
      "4 skill:training            usr_d:t  2     18  0.6614   0.528229    0.068458\n",
      "5 skill:background          usr_d:b  2     18  1.1256   0.346266    0.111161\n",
      "6 training:background         us_::  1     18  3.3110   0.085490    0.155367\n",
      "7 skill:training:background   us_::  2     18  2.2962   0.129356    0.203273\n",
      "                               \n",
      "1 skill                     ***\n",
      "2 training                    *\n",
      "3 background                   \n",
      "4 skill:training               \n",
      "5 skill:background             \n",
      "6 training:background         .\n",
      "7 skill:training:background    \n",
      "---\n",
      "Signif. codes:   0 ‘***’ 0.001 ‘**’ 0.01 ‘*’ 0.05 ‘.’ 0.1 ‘ ’ 1 \n"
     ]
    }
   ],
   "source": [
    "%%R\n",
    "m = anova(melody_df_art)\n",
    "m$eta.sq.part = with(m, `Sum Sq`/(`Sum Sq` + `Sum Sq.res`))\n",
    "print(m)"
   ]
  },
  {
   "cell_type": "markdown",
   "metadata": {},
   "source": [
    "### Melody post-hoc: Skill"
   ]
  },
  {
   "cell_type": "code",
   "execution_count": 26,
   "metadata": {},
   "outputs": [
    {
     "name": "stdout",
     "output_type": "stream",
     "text": [
      " contrast              estimate   SE df t.ratio p.value\n",
      " Expert - Intermediate    -21.3 4.53 18  -4.706  0.0005\n",
      " Expert - Novice          -45.4 4.34 18 -10.466  <.0001\n",
      " Intermediate - Novice    -24.1 4.66 18  -5.168  0.0002\n",
      "\n",
      "Results are averaged over the levels of: training, background \n",
      "P value adjustment: tukey method for comparing a family of 3 estimates \n"
     ]
    }
   ],
   "source": [
    "%%R\n",
    "suppressMessages(art.con(melody_df_art, \"skill\", interaction = FALSE))"
   ]
  },
  {
   "cell_type": "code",
   "execution_count": 27,
   "metadata": {},
   "outputs": [
    {
     "data": {
      "text/html": [
       "<div>\n",
       "<style scoped>\n",
       "    .dataframe tbody tr th:only-of-type {\n",
       "        vertical-align: middle;\n",
       "    }\n",
       "\n",
       "    .dataframe tbody tr th {\n",
       "        vertical-align: top;\n",
       "    }\n",
       "\n",
       "    .dataframe thead th {\n",
       "        text-align: right;\n",
       "    }\n",
       "</style>\n",
       "<table border=\"1\" class=\"dataframe\">\n",
       "  <thead>\n",
       "    <tr style=\"text-align: right;\">\n",
       "      <th></th>\n",
       "      <th>Error rate</th>\n",
       "    </tr>\n",
       "    <tr>\n",
       "      <th>Skill</th>\n",
       "      <th></th>\n",
       "    </tr>\n",
       "  </thead>\n",
       "  <tbody>\n",
       "    <tr>\n",
       "      <th>Expert</th>\n",
       "      <td>7.214400</td>\n",
       "    </tr>\n",
       "    <tr>\n",
       "      <th>Intermediate</th>\n",
       "      <td>24.587912</td>\n",
       "    </tr>\n",
       "    <tr>\n",
       "      <th>Novice</th>\n",
       "      <td>53.277080</td>\n",
       "    </tr>\n",
       "  </tbody>\n",
       "</table>\n",
       "</div>"
      ],
      "text/plain": [
       "              Error rate\n",
       "Skill                   \n",
       "Expert          7.214400\n",
       "Intermediate   24.587912\n",
       "Novice         53.277080"
      ]
     },
     "execution_count": 27,
     "metadata": {},
     "output_type": "execute_result"
    }
   ],
   "source": [
    "df[(df[\"Technique\"] == \"Melody\")].groupby([\"Skill\"]).mean()"
   ]
  },
  {
   "cell_type": "markdown",
   "metadata": {},
   "source": [
    "### Melody post-hoc: Training"
   ]
  },
  {
   "cell_type": "code",
   "execution_count": 28,
   "metadata": {},
   "outputs": [
    {
     "name": "stdout",
     "output_type": "stream",
     "text": [
      " contrast            estimate   SE df t.ratio p.value\n",
      " Trained - Untrained      -14 6.48 18  -2.156  0.0449\n",
      "\n",
      "Results are averaged over the levels of: skill, background \n"
     ]
    }
   ],
   "source": [
    "%%R\n",
    "suppressMessages(art.con(melody_df_art, \"training\", interaction = FALSE))"
   ]
  },
  {
   "cell_type": "code",
   "execution_count": 29,
   "metadata": {},
   "outputs": [
    {
     "data": {
      "text/html": [
       "<div>\n",
       "<style scoped>\n",
       "    .dataframe tbody tr th:only-of-type {\n",
       "        vertical-align: middle;\n",
       "    }\n",
       "\n",
       "    .dataframe tbody tr th {\n",
       "        vertical-align: top;\n",
       "    }\n",
       "\n",
       "    .dataframe thead th {\n",
       "        text-align: right;\n",
       "    }\n",
       "</style>\n",
       "<table border=\"1\" class=\"dataframe\">\n",
       "  <thead>\n",
       "    <tr style=\"text-align: right;\">\n",
       "      <th></th>\n",
       "      <th>Error rate</th>\n",
       "    </tr>\n",
       "    <tr>\n",
       "      <th>Training</th>\n",
       "      <th></th>\n",
       "    </tr>\n",
       "  </thead>\n",
       "  <tbody>\n",
       "    <tr>\n",
       "      <th>Trained</th>\n",
       "      <td>22.344322</td>\n",
       "    </tr>\n",
       "    <tr>\n",
       "      <th>Untrained</th>\n",
       "      <td>32.720652</td>\n",
       "    </tr>\n",
       "  </tbody>\n",
       "</table>\n",
       "</div>"
      ],
      "text/plain": [
       "           Error rate\n",
       "Training             \n",
       "Trained     22.344322\n",
       "Untrained   32.720652"
      ]
     },
     "execution_count": 29,
     "metadata": {},
     "output_type": "execute_result"
    }
   ],
   "source": [
    "df[(df[\"Technique\"] == \"Melody\")].groupby([\"Training\"]).mean()"
   ]
  },
  {
   "cell_type": "markdown",
   "metadata": {},
   "source": [
    "## Overall error rate for trained participants"
   ]
  },
  {
   "cell_type": "code",
   "execution_count": 30,
   "metadata": {},
   "outputs": [
    {
     "data": {
      "text/html": [
       "<div>\n",
       "<style scoped>\n",
       "    .dataframe tbody tr th:only-of-type {\n",
       "        vertical-align: middle;\n",
       "    }\n",
       "\n",
       "    .dataframe tbody tr th {\n",
       "        vertical-align: top;\n",
       "    }\n",
       "\n",
       "    .dataframe thead th {\n",
       "        text-align: right;\n",
       "    }\n",
       "</style>\n",
       "<table border=\"1\" class=\"dataframe\">\n",
       "  <thead>\n",
       "    <tr style=\"text-align: right;\">\n",
       "      <th></th>\n",
       "      <th></th>\n",
       "      <th>Error rate</th>\n",
       "    </tr>\n",
       "    <tr>\n",
       "      <th>Skill</th>\n",
       "      <th>Technique</th>\n",
       "      <th></th>\n",
       "    </tr>\n",
       "  </thead>\n",
       "  <tbody>\n",
       "    <tr>\n",
       "      <th rowspan=\"3\" valign=\"top\">Expert</th>\n",
       "      <th>Interval</th>\n",
       "      <td>8.590888</td>\n",
       "    </tr>\n",
       "    <tr>\n",
       "      <th>Melody</th>\n",
       "      <td>4.464286</td>\n",
       "    </tr>\n",
       "    <tr>\n",
       "      <th>Pitch</th>\n",
       "      <td>1.339286</td>\n",
       "    </tr>\n",
       "    <tr>\n",
       "      <th rowspan=\"3\" valign=\"top\">Intermediate</th>\n",
       "      <th>Interval</th>\n",
       "      <td>21.108059</td>\n",
       "    </tr>\n",
       "    <tr>\n",
       "      <th>Melody</th>\n",
       "      <td>19.047619</td>\n",
       "    </tr>\n",
       "    <tr>\n",
       "      <th>Pitch</th>\n",
       "      <td>13.095238</td>\n",
       "    </tr>\n",
       "    <tr>\n",
       "      <th rowspan=\"3\" valign=\"top\">Novice</th>\n",
       "      <th>Interval</th>\n",
       "      <td>34.733124</td>\n",
       "    </tr>\n",
       "    <tr>\n",
       "      <th>Melody</th>\n",
       "      <td>45.604396</td>\n",
       "    </tr>\n",
       "    <tr>\n",
       "      <th>Pitch</th>\n",
       "      <td>45.918367</td>\n",
       "    </tr>\n",
       "  </tbody>\n",
       "</table>\n",
       "</div>"
      ],
      "text/plain": [
       "                        Error rate\n",
       "Skill        Technique            \n",
       "Expert       Interval     8.590888\n",
       "             Melody       4.464286\n",
       "             Pitch        1.339286\n",
       "Intermediate Interval    21.108059\n",
       "             Melody      19.047619\n",
       "             Pitch       13.095238\n",
       "Novice       Interval    34.733124\n",
       "             Melody      45.604396\n",
       "             Pitch       45.918367"
      ]
     },
     "execution_count": 30,
     "metadata": {},
     "output_type": "execute_result"
    }
   ],
   "source": [
    "df[(df[\"Training\"] == \"Trained\")].groupby([\"Skill\", \"Technique\"]).mean()"
   ]
  },
  {
   "cell_type": "markdown",
   "metadata": {},
   "source": [
    "# Error Rate Graphs"
   ]
  },
  {
   "cell_type": "code",
   "execution_count": 31,
   "metadata": {},
   "outputs": [
    {
     "data": {
      "image/png": "[encoded data removed]",
      "text/plain": [
       "<Figure size 432x194.4 with 3 Axes>"
      ]
     },
     "metadata": {},
     "output_type": "display_data"
    },
    {
     "data": {
      "image/png": "[encoded data removed]",
      "text/plain": [
       "<Figure size 432x194.4 with 3 Axes>"
      ]
     },
     "metadata": {},
     "output_type": "display_data"
    },
    {
     "data": {
      "image/png": "[encoded data removed]",
      "text/plain": [
       "<Figure size 432x194.4 with 3 Axes>"
      ]
     },
     "metadata": {},
     "output_type": "display_data"
    }
   ],
   "source": [
    "from utils.factorize import factorize_xticks, wrap_dv, wrap_factor\n",
    "\n",
    "skills = [\"Novice\", \"Intermediate\", \"Expert\"]\n",
    "techniques = [\"Pitch\", \"Interval\", \"Melody\"]\n",
    "\n",
    "for technique in techniques:\n",
    "    fig = plt.figure(constrained_layout=True)\n",
    "    fig.set_figwidth(6)\n",
    "    fig.set_figheight(2.7)\n",
    "    gs = fig.add_gridspec(ncols=3, nrows=1, wspace=0.1)\n",
    "    for col, classification in enumerate(skills):\n",
    "        ax = fig.add_subplot(gs[0, col])\n",
    "        curr_df = df[(df[\"Technique\"] == technique) & (df[\"Skill\"] == classification)]\n",
    "        sns.barplot(\n",
    "            data=curr_df,\n",
    "            x=\"Training\",\n",
    "            y=\"Error rate\",\n",
    "            hue=\"Background\",\n",
    "            ci=95,\n",
    "            n_boot=10000,\n",
    "            ax=ax,\n",
    "            palette=reg_palette,\n",
    "        )\n",
    "\n",
    "        ax.set_ylim(ymin=0, ymax=100)\n",
    "        ax.set_xlabel(wrap_factor(skills[col]))\n",
    "\n",
    "        factorize_xticks(ax)\n",
    "\n",
    "        if col < 2:\n",
    "            ax.get_legend().set_visible(False)\n",
    "        if col != 0:\n",
    "            ax.set_yticklabels([])\n",
    "            ax.set_ylabel(None)\n",
    "        if col == 0:\n",
    "            ax.set_ylabel(\"Error rate (%)\")\n",
    "        if col == 2:\n",
    "            for text in ax.legend().get_texts():\n",
    "                text.set_text(wrap_factor(text.get_text()))\n",
    "\n",
    "        # Remove spines\n",
    "        ax.spines[\"right\"].set_visible(False)\n",
    "        ax.spines[\"top\"].set_visible(False)\n",
    "        if col != 0:\n",
    "            ax.spines[\"left\"].set_visible(False)\n",
    "\n",
    "        # Reduce tick label size for x axis\n",
    "        ax.xaxis.set_ticklabels(ax.xaxis.get_ticklabels(), fontsize=9)\n",
    "\n",
    "    plt.show()"
   ]
  }
 ],
 "metadata": {
  "kernelspec": {
   "display_name": "Python 3 (ipykernel)",
   "language": "python",
   "name": "python3"
  },
  "language_info": {
   "codemirror_mode": {
    "name": "ipython",
    "version": 3
   },
   "file_extension": ".py",
   "mimetype": "text/x-python",
   "name": "python",
   "nbconvert_exporter": "python",
   "pygments_lexer": "ipython3",
   "version": "3.9.10"
  }
 },
 "nbformat": 4,
 "nbformat_minor": 4
}
