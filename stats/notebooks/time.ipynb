{
 "cells": [
  {
   "cell_type": "markdown",
   "metadata": {},
   "source": [
    "# Total Time and Sing Time\n",
    "\n",
    "This evaluates the effect of various variables on *Total Time* and *Sing Time*."
   ]
  },
  {
   "cell_type": "code",
   "execution_count": 1,
   "metadata": {},
   "outputs": [],
   "source": [
    "import numpy as np\n",
    "import pandas as pd\n",
    "import math\n",
    "import seaborn as sns\n",
    "import matplotlib.pyplot as plt\n",
    "import rpy2\n",
    "\n",
    "%load_ext rpy2.ipython\n",
    "%matplotlib inline"
   ]
  },
  {
   "cell_type": "code",
   "execution_count": 2,
   "metadata": {},
   "outputs": [],
   "source": [
    "reg_palette = sns.color_palette(\"colorblind\", 5)\n",
    "sns.set_palette(reg_palette)\n",
    "light_palette = [sns.set_hls_values(x, l=0.65) for x in reg_palette]\n",
    "sns.set_style(\"whitegrid\")"
   ]
  },
  {
   "cell_type": "code",
   "execution_count": 3,
   "metadata": {},
   "outputs": [
    {
     "data": {
      "text/html": [
       "<div>\n",
       "<style scoped>\n",
       "    .dataframe tbody tr th:only-of-type {\n",
       "        vertical-align: middle;\n",
       "    }\n",
       "\n",
       "    .dataframe tbody tr th {\n",
       "        vertical-align: top;\n",
       "    }\n",
       "\n",
       "    .dataframe thead th {\n",
       "        text-align: right;\n",
       "    }\n",
       "</style>\n",
       "<table border=\"1\" class=\"dataframe\">\n",
       "  <thead>\n",
       "    <tr style=\"text-align: right;\">\n",
       "      <th></th>\n",
       "      <th>User ID</th>\n",
       "      <th>Technique</th>\n",
       "      <th>Skill</th>\n",
       "      <th>Metric</th>\n",
       "      <th>Background</th>\n",
       "      <th>Training</th>\n",
       "      <th>Time</th>\n",
       "      <th>Success</th>\n",
       "    </tr>\n",
       "  </thead>\n",
       "  <tbody>\n",
       "    <tr>\n",
       "      <th>0</th>\n",
       "      <td>4g4XbueBXPakEKcHYSqqot76sGg1</td>\n",
       "      <td>Pitch</td>\n",
       "      <td>Expert</td>\n",
       "      <td>Total time</td>\n",
       "      <td>No-Music</td>\n",
       "      <td>Untrained</td>\n",
       "      <td>5852.5</td>\n",
       "      <td>True</td>\n",
       "    </tr>\n",
       "    <tr>\n",
       "      <th>1</th>\n",
       "      <td>4g4XbueBXPakEKcHYSqqot76sGg1</td>\n",
       "      <td>Pitch</td>\n",
       "      <td>Expert</td>\n",
       "      <td>Sing time</td>\n",
       "      <td>No-Music</td>\n",
       "      <td>Untrained</td>\n",
       "      <td>4648.5</td>\n",
       "      <td>True</td>\n",
       "    </tr>\n",
       "    <tr>\n",
       "      <th>2</th>\n",
       "      <td>4g4XbueBXPakEKcHYSqqot76sGg1</td>\n",
       "      <td>Pitch</td>\n",
       "      <td>Expert</td>\n",
       "      <td>Total time</td>\n",
       "      <td>No-Music</td>\n",
       "      <td>Untrained</td>\n",
       "      <td>1854.0</td>\n",
       "      <td>False</td>\n",
       "    </tr>\n",
       "    <tr>\n",
       "      <th>3</th>\n",
       "      <td>4g4XbueBXPakEKcHYSqqot76sGg1</td>\n",
       "      <td>Pitch</td>\n",
       "      <td>Expert</td>\n",
       "      <td>Sing time</td>\n",
       "      <td>No-Music</td>\n",
       "      <td>Untrained</td>\n",
       "      <td>1150.9</td>\n",
       "      <td>False</td>\n",
       "    </tr>\n",
       "    <tr>\n",
       "      <th>4</th>\n",
       "      <td>4g4XbueBXPakEKcHYSqqot76sGg1</td>\n",
       "      <td>Pitch</td>\n",
       "      <td>Expert</td>\n",
       "      <td>Total time</td>\n",
       "      <td>No-Music</td>\n",
       "      <td>Untrained</td>\n",
       "      <td>3846.9</td>\n",
       "      <td>True</td>\n",
       "    </tr>\n",
       "    <tr>\n",
       "      <th>...</th>\n",
       "      <td>...</td>\n",
       "      <td>...</td>\n",
       "      <td>...</td>\n",
       "      <td>...</td>\n",
       "      <td>...</td>\n",
       "      <td>...</td>\n",
       "      <td>...</td>\n",
       "      <td>...</td>\n",
       "    </tr>\n",
       "    <tr>\n",
       "      <th>6955</th>\n",
       "      <td>RIneOAfWA6POfHcHOoYEDG1BF6T2</td>\n",
       "      <td>Melody</td>\n",
       "      <td>Expert</td>\n",
       "      <td>Sing time</td>\n",
       "      <td>Music</td>\n",
       "      <td>Trained</td>\n",
       "      <td>3798.3</td>\n",
       "      <td>True</td>\n",
       "    </tr>\n",
       "    <tr>\n",
       "      <th>6956</th>\n",
       "      <td>RIneOAfWA6POfHcHOoYEDG1BF6T2</td>\n",
       "      <td>Melody</td>\n",
       "      <td>Expert</td>\n",
       "      <td>Total time</td>\n",
       "      <td>Music</td>\n",
       "      <td>Trained</td>\n",
       "      <td>4700.8</td>\n",
       "      <td>True</td>\n",
       "    </tr>\n",
       "    <tr>\n",
       "      <th>6957</th>\n",
       "      <td>RIneOAfWA6POfHcHOoYEDG1BF6T2</td>\n",
       "      <td>Melody</td>\n",
       "      <td>Expert</td>\n",
       "      <td>Sing time</td>\n",
       "      <td>Music</td>\n",
       "      <td>Trained</td>\n",
       "      <td>2551.7</td>\n",
       "      <td>True</td>\n",
       "    </tr>\n",
       "    <tr>\n",
       "      <th>6958</th>\n",
       "      <td>RIneOAfWA6POfHcHOoYEDG1BF6T2</td>\n",
       "      <td>Melody</td>\n",
       "      <td>Expert</td>\n",
       "      <td>Total time</td>\n",
       "      <td>Music</td>\n",
       "      <td>Trained</td>\n",
       "      <td>5903.9</td>\n",
       "      <td>True</td>\n",
       "    </tr>\n",
       "    <tr>\n",
       "      <th>6959</th>\n",
       "      <td>RIneOAfWA6POfHcHOoYEDG1BF6T2</td>\n",
       "      <td>Melody</td>\n",
       "      <td>Expert</td>\n",
       "      <td>Sing time</td>\n",
       "      <td>Music</td>\n",
       "      <td>Trained</td>\n",
       "      <td>4598.1</td>\n",
       "      <td>True</td>\n",
       "    </tr>\n",
       "  </tbody>\n",
       "</table>\n",
       "<p>6960 rows × 8 columns</p>\n",
       "</div>"
      ],
      "text/plain": [
       "                           User ID Technique   Skill      Metric Background  \\\n",
       "0     4g4XbueBXPakEKcHYSqqot76sGg1     Pitch  Expert  Total time   No-Music   \n",
       "1     4g4XbueBXPakEKcHYSqqot76sGg1     Pitch  Expert   Sing time   No-Music   \n",
       "2     4g4XbueBXPakEKcHYSqqot76sGg1     Pitch  Expert  Total time   No-Music   \n",
       "3     4g4XbueBXPakEKcHYSqqot76sGg1     Pitch  Expert   Sing time   No-Music   \n",
       "4     4g4XbueBXPakEKcHYSqqot76sGg1     Pitch  Expert  Total time   No-Music   \n",
       "...                            ...       ...     ...         ...        ...   \n",
       "6955  RIneOAfWA6POfHcHOoYEDG1BF6T2    Melody  Expert   Sing time      Music   \n",
       "6956  RIneOAfWA6POfHcHOoYEDG1BF6T2    Melody  Expert  Total time      Music   \n",
       "6957  RIneOAfWA6POfHcHOoYEDG1BF6T2    Melody  Expert   Sing time      Music   \n",
       "6958  RIneOAfWA6POfHcHOoYEDG1BF6T2    Melody  Expert  Total time      Music   \n",
       "6959  RIneOAfWA6POfHcHOoYEDG1BF6T2    Melody  Expert   Sing time      Music   \n",
       "\n",
       "       Training    Time Success  \n",
       "0     Untrained  5852.5    True  \n",
       "1     Untrained  4648.5    True  \n",
       "2     Untrained  1854.0   False  \n",
       "3     Untrained  1150.9   False  \n",
       "4     Untrained  3846.9    True  \n",
       "...         ...     ...     ...  \n",
       "6955    Trained  3798.3    True  \n",
       "6956    Trained  4700.8    True  \n",
       "6957    Trained  2551.7    True  \n",
       "6958    Trained  5903.9    True  \n",
       "6959    Trained  4598.1    True  \n",
       "\n",
       "[6960 rows x 8 columns]"
      ]
     },
     "execution_count": 3,
     "metadata": {},
     "output_type": "execute_result"
    }
   ],
   "source": [
    "df = pd.read_csv(\"../data/time.csv\", index_col=0)\n",
    "df"
   ]
  },
  {
   "cell_type": "code",
   "execution_count": 34,
   "metadata": {},
   "outputs": [],
   "source": [
    "%%R -i df\n",
    "\n",
    "# Import libs for analysis\n",
    "library(emmeans) # emmeans\n",
    "library(ez) # ezANOVA\n",
    "\n",
    "# Sanitize dataframe column names\n",
    "library(janitor)\n",
    "df <- clean_names(df)\n",
    "\n",
    "df$user_id <- factor(df$user_id)\n",
    "df$technique <- factor(df$technique)\n",
    "df$skill <- factor(df$skill)\n",
    "df$metric <- factor(df$metric)\n",
    "df$background <- factor(df$background)\n",
    "df$training <- factor(df$training)\n",
    "df$success <- factor(df$success)"
   ]
  },
  {
   "cell_type": "markdown",
   "metadata": {},
   "source": [
    "# Total Time stats"
   ]
  },
  {
   "cell_type": "markdown",
   "metadata": {},
   "source": [
    "## Test for normality"
   ]
  },
  {
   "cell_type": "code",
   "execution_count": 5,
   "metadata": {},
   "outputs": [
    {
     "data": {
      "image/png": "[encoded data removed]"
     },
     "metadata": {},
     "output_type": "display_data"
    },
    {
     "data": {
      "image/png": "[encoded data removed]"
     },
     "metadata": {},
     "output_type": "display_data"
    }
   ],
   "source": [
    "%%R\n",
    "total_time_df <- subset(df, metric == \"Total time\")\n",
    "\n",
    "m = aov(time ~ technique*skill, data=total_time_df)\n",
    "res = residuals(m)\n",
    "qqnorm(res)\n",
    "qqline(res)\n",
    "hist(res)"
   ]
  },
  {
   "cell_type": "markdown",
   "metadata": {},
   "source": [
    "### BoxCox for pitch total time: .17"
   ]
  },
  {
   "cell_type": "code",
   "execution_count": 6,
   "metadata": {},
   "outputs": [
    {
     "name": "stdout",
     "output_type": "stream",
     "text": [
      "\n",
      "\tShapiro-Wilk normality test\n",
      "\n",
      "data:  resid(lm(time ~ skill, data = pitch_tt_df))\n",
      "W = 0.92081, p-value < 2.2e-16\n",
      "\n",
      "\n",
      "\tShapiro-Wilk normality test\n",
      "\n",
      "data:  resid(lm(adj_time ~ skill, data = pitch_tt_df))\n",
      "W = 0.99347, p-value = 5.562e-05\n",
      "\n"
     ]
    }
   ],
   "source": [
    "%%R\n",
    "adj = .17\n",
    "pitch_tt_df <- subset(total_time_df, technique == \"Pitch\")\n",
    "pitch_tt_df$adj_time <- (pitch_tt_df$time ^ adj - 1) / adj\n",
    "\n",
    "print(shapiro.test(resid(lm(time ~ skill, data = pitch_tt_df))))\n",
    "print(shapiro.test(resid(lm(adj_time ~ skill, data = pitch_tt_df))))"
   ]
  },
  {
   "cell_type": "markdown",
   "metadata": {},
   "source": [
    "### BoxCox for interval total time: .25"
   ]
  },
  {
   "cell_type": "code",
   "execution_count": 7,
   "metadata": {},
   "outputs": [
    {
     "name": "stdout",
     "output_type": "stream",
     "text": [
      "\n",
      "\tShapiro-Wilk normality test\n",
      "\n",
      "data:  resid(lm(time ~ skill, data = interval_tt_df))\n",
      "W = 0.93191, p-value < 2.2e-16\n",
      "\n",
      "\n",
      "\tShapiro-Wilk normality test\n",
      "\n",
      "data:  resid(lm(adj_time ~ skill, data = interval_tt_df))\n",
      "W = 0.98853, p-value = 7.033e-08\n",
      "\n"
     ]
    }
   ],
   "source": [
    "%%R\n",
    "adj = .25\n",
    "interval_tt_df <- subset(total_time_df, technique == \"Interval\")\n",
    "interval_tt_df$adj_time <- (interval_tt_df$time ^ adj - 1) / adj\n",
    "\n",
    "print(shapiro.test(resid(lm(time ~ skill, data = interval_tt_df))))\n",
    "print(shapiro.test(resid(lm(adj_time ~ skill, data = interval_tt_df))))"
   ]
  },
  {
   "cell_type": "markdown",
   "metadata": {},
   "source": [
    "### BoxCox for melody total time: .67"
   ]
  },
  {
   "cell_type": "code",
   "execution_count": 8,
   "metadata": {},
   "outputs": [
    {
     "name": "stdout",
     "output_type": "stream",
     "text": [
      "\n",
      "\tShapiro-Wilk normality test\n",
      "\n",
      "data:  resid(lm(time ~ skill, data = melody_tt_df))\n",
      "W = 0.98394, p-value = 5.141e-10\n",
      "\n",
      "\n",
      "\tShapiro-Wilk normality test\n",
      "\n",
      "data:  resid(lm(adj_time ~ skill, data = melody_tt_df))\n",
      "W = 0.9928, p-value = 2.012e-05\n",
      "\n"
     ]
    }
   ],
   "source": [
    "%%R\n",
    "adj = .67\n",
    "melody_tt_df <- subset(total_time_df, technique == \"Melody\")\n",
    "melody_tt_df$adj_time <- (melody_tt_df$time ^ adj - 1) / adj\n",
    "\n",
    "print(shapiro.test(resid(lm(time ~ skill, data = melody_tt_df))))\n",
    "print(shapiro.test(resid(lm(adj_time ~ skill, data = melody_tt_df))))"
   ]
  },
  {
   "cell_type": "markdown",
   "metadata": {},
   "source": [
    "## Pitch: Background X Training X Skill ANOVA"
   ]
  },
  {
   "cell_type": "code",
   "execution_count": 9,
   "metadata": {},
   "outputs": [
    {
     "name": "stdout",
     "output_type": "stream",
     "text": [
      "$ANOVA\n",
      "                     Effect DFn DFd       SSn       SSd        F          p\n",
      "1                     skill   2  18 7.2535074 54.600867 1.195614 0.32543337\n",
      "2                background   1  18 0.7458681  4.741366 2.831594 0.10969136\n",
      "4                  training   1  18 0.9168442 11.866856 1.390697 0.25364053\n",
      "3          skill:background   2  18 2.0608023  4.741366 3.911788 0.03884231\n",
      "5            skill:training   2  18 1.6188051 11.866856 1.227726 0.31635221\n",
      "6       background:training   1  18 0.8828803  8.176318 1.943643 0.18024587\n",
      "7 skill:background:training   2  18 3.1320133  8.176318 3.447532 0.05400490\n",
      "  p<.05         ges\n",
      "1       0.083721126\n",
      "2       0.009308078\n",
      "4       0.011417416\n",
      "3     * 0.025302618\n",
      "5       0.019984209\n",
      "6       0.010999117\n",
      "7       0.037955784\n",
      "\n"
     ]
    }
   ],
   "source": [
    "%%R\n",
    "suppressWarnings(ezANOVA(\n",
    "    data = pitch_tt_df,\n",
    "    dv=.(adj_time),\n",
    "    wid=.(user_id),\n",
    "    within=.(background, training),\n",
    "    between=.(skill),\n",
    "    detailed=TRUE,\n",
    "    type=1\n",
    "))"
   ]
  },
  {
   "cell_type": "markdown",
   "metadata": {},
   "source": [
    "### Pitch post-hoc: Skill X Background"
   ]
  },
  {
   "cell_type": "code",
   "execution_count": 10,
   "metadata": {},
   "outputs": [
    {
     "name": "stdout",
     "output_type": "stream",
     "text": [
      "$emmeans\n",
      "skill = Expert:\n",
      " contrast          estimate     SE   df t.ratio p.value\n",
      " Music effect        0.0172 0.0962 1155   0.179  0.8583\n",
      " (No-Music) effect  -0.0172 0.0962 1155  -0.179  0.8583\n",
      "\n",
      "skill = Intermediate:\n",
      " contrast          estimate     SE   df t.ratio p.value\n",
      " Music effect       -0.0681 0.1105 1155  -0.616  0.5380\n",
      " (No-Music) effect   0.0681 0.1105 1155   0.616  0.5380\n",
      "\n",
      "skill = Novice:\n",
      " contrast          estimate     SE   df t.ratio p.value\n",
      " Music effect        0.2945 0.1028 1155   2.864  0.0043\n",
      " (No-Music) effect  -0.2945 0.1028 1155  -2.864  0.0043\n",
      "\n",
      "P value adjustment: fdr method for 2 tests \n",
      "\n",
      "$contrasts\n",
      "skill = Expert:\n",
      " contrast                    estimate SE   df t.ratio p.value\n",
      " (Music - (No-Music)) effect        0  0 1155     NaN     NaN\n",
      "\n",
      "skill = Intermediate:\n",
      " contrast                    estimate SE   df t.ratio p.value\n",
      " (Music - (No-Music)) effect        0  0 1155     NaN     NaN\n",
      "\n",
      "skill = Novice:\n",
      " contrast                    estimate SE   df t.ratio p.value\n",
      " (Music - (No-Music)) effect        0  0 1155     NaN     NaN\n",
      "\n",
      "\n"
     ]
    }
   ],
   "source": [
    "%%R\n",
    "contrast(emmeans(lm(adj_time ~ background * skill, data=pitch_tt_df), pairwise ~ background | skill))"
   ]
  },
  {
   "cell_type": "code",
   "execution_count": 11,
   "metadata": {},
   "outputs": [
    {
     "data": {
      "text/html": [
       "<div>\n",
       "<style scoped>\n",
       "    .dataframe tbody tr th:only-of-type {\n",
       "        vertical-align: middle;\n",
       "    }\n",
       "\n",
       "    .dataframe tbody tr th {\n",
       "        vertical-align: top;\n",
       "    }\n",
       "\n",
       "    .dataframe thead th {\n",
       "        text-align: right;\n",
       "    }\n",
       "</style>\n",
       "<table border=\"1\" class=\"dataframe\">\n",
       "  <thead>\n",
       "    <tr style=\"text-align: right;\">\n",
       "      <th></th>\n",
       "      <th></th>\n",
       "      <th>Time</th>\n",
       "    </tr>\n",
       "    <tr>\n",
       "      <th>Skill</th>\n",
       "      <th>Background</th>\n",
       "      <th></th>\n",
       "    </tr>\n",
       "  </thead>\n",
       "  <tbody>\n",
       "    <tr>\n",
       "      <th rowspan=\"2\" valign=\"top\">Expert</th>\n",
       "      <th>Music</th>\n",
       "      <td>3987.667727</td>\n",
       "    </tr>\n",
       "    <tr>\n",
       "      <th>No-Music</th>\n",
       "      <td>3994.381538</td>\n",
       "    </tr>\n",
       "    <tr>\n",
       "      <th rowspan=\"2\" valign=\"top\">Intermediate</th>\n",
       "      <th>Music</th>\n",
       "      <td>4846.380838</td>\n",
       "    </tr>\n",
       "    <tr>\n",
       "      <th>No-Music</th>\n",
       "      <td>5092.031737</td>\n",
       "    </tr>\n",
       "    <tr>\n",
       "      <th rowspan=\"2\" valign=\"top\">Novice</th>\n",
       "      <th>Music</th>\n",
       "      <td>5129.222396</td>\n",
       "    </tr>\n",
       "    <tr>\n",
       "      <th>No-Music</th>\n",
       "      <td>4446.708247</td>\n",
       "    </tr>\n",
       "  </tbody>\n",
       "</table>\n",
       "</div>"
      ],
      "text/plain": [
       "                                Time\n",
       "Skill        Background             \n",
       "Expert       Music       3987.667727\n",
       "             No-Music    3994.381538\n",
       "Intermediate Music       4846.380838\n",
       "             No-Music    5092.031737\n",
       "Novice       Music       5129.222396\n",
       "             No-Music    4446.708247"
      ]
     },
     "execution_count": 11,
     "metadata": {},
     "output_type": "execute_result"
    }
   ],
   "source": [
    "df[(df[\"Metric\"] == \"Total time\") & (df[\"Technique\"] == \"Pitch\")].groupby(\n",
    "    [\"Skill\", \"Background\"]\n",
    ").mean()"
   ]
  },
  {
   "cell_type": "markdown",
   "metadata": {},
   "source": [
    "## Interval: Background X Training X Skill ANOVA"
   ]
  },
  {
   "cell_type": "code",
   "execution_count": 12,
   "metadata": {},
   "outputs": [
    {
     "name": "stdout",
     "output_type": "stream",
     "text": [
      "$ANOVA\n",
      "                     Effect DFn DFd        SSn       SSd         F         p\n",
      "1                     skill   2  18 17.5375877 143.63558 1.0988802 0.3545877\n",
      "2                background   1  18  0.7192922  36.88915 0.3509775 0.5609296\n",
      "4                  training   1  18  3.5742740  73.41246 0.8763762 0.3615872\n",
      "3          skill:background   2  18  1.1372957  36.88915 0.2774708 0.7608801\n",
      "5            skill:training   2  18  5.0546541  73.41246 0.6196753 0.5492105\n",
      "6       background:training   1  18  0.5023048  14.28641 0.6328733 0.4366691\n",
      "7 skill:background:training   2  18  0.5643779  14.28641 0.3555408 0.7056064\n",
      "  p<.05         ges\n",
      "1       0.061371484\n",
      "2       0.002674516\n",
      "4       0.013150486\n",
      "3       0.004222201\n",
      "5       0.018496364\n",
      "6       0.001869209\n",
      "7       0.002099714\n",
      "\n"
     ]
    }
   ],
   "source": [
    "%%R\n",
    "suppressWarnings(ezANOVA(\n",
    "    data = interval_tt_df,\n",
    "    dv=.(adj_time),\n",
    "    wid=.(user_id),\n",
    "    within=.(background, training),\n",
    "    between=.(skill),\n",
    "    detailed=TRUE,\n",
    "    type=1\n",
    "))"
   ]
  },
  {
   "cell_type": "markdown",
   "metadata": {},
   "source": [
    "## Melody: Background X Training X Skill ANOVA"
   ]
  },
  {
   "cell_type": "code",
   "execution_count": 13,
   "metadata": {},
   "outputs": [
    {
     "name": "stdout",
     "output_type": "stream",
     "text": [
      "$ANOVA\n",
      "                     Effect DFn DFd        SSn       SSd          F           p\n",
      "1                     skill   2  18 13557.9655 238319.04  0.5120098 0.607759810\n",
      "2                background   1  18   438.8836  38563.16  0.2048563 0.656236942\n",
      "4                  training   1  18 24224.6655  30361.45 14.3617657 0.001341862\n",
      "3          skill:background   2  18   993.6100  38563.16  0.2318920 0.795364378\n",
      "5            skill:training   2  18  2273.0738  30361.45  0.6738040 0.522164126\n",
      "6       background:training   1  18   442.8474  19900.20  0.4005615 0.534758066\n",
      "7 skill:background:training   2  18  8736.5654  19900.20  3.9511713 0.037792110\n",
      "  p<.05         ges\n",
      "1       0.039794227\n",
      "2       0.001339764\n",
      "4     * 0.068943756\n",
      "3       0.003028030\n",
      "5       0.006900294\n",
      "6       0.001351848\n",
      "7     * 0.026010940\n",
      "\n"
     ]
    }
   ],
   "source": [
    "%%R\n",
    "suppressWarnings(ezANOVA(\n",
    "    data = melody_tt_df,\n",
    "    dv=.(adj_time),\n",
    "    wid=.(user_id),\n",
    "    within=.(background, training),\n",
    "    between=.(skill),\n",
    "    detailed=TRUE,\n",
    "    type=1\n",
    "))"
   ]
  },
  {
   "cell_type": "markdown",
   "metadata": {},
   "source": [
    "### Melody post-hoc: Training"
   ]
  },
  {
   "cell_type": "code",
   "execution_count": 14,
   "metadata": {},
   "outputs": [
    {
     "name": "stdout",
     "output_type": "stream",
     "text": [
      "$emmeans\n",
      " contrast            estimate   SE   df t.ratio p.value\n",
      " Trained - Untrained    -33.7 6.72 1158  -5.016  <.0001\n",
      "\n",
      "\n",
      "$contrasts\n",
      " contrast  estimate SE df z.ratio p.value\n",
      " (nothing)   nonEst NA NA      NA      NA\n",
      "\n",
      "\n"
     ]
    }
   ],
   "source": [
    "%%R\n",
    "pairs(emmeans(lm(adj_time ~ training, data=melody_tt_df), pairwise ~ training))"
   ]
  },
  {
   "cell_type": "code",
   "execution_count": 15,
   "metadata": {},
   "outputs": [
    {
     "data": {
      "text/html": [
       "<div>\n",
       "<style scoped>\n",
       "    .dataframe tbody tr th:only-of-type {\n",
       "        vertical-align: middle;\n",
       "    }\n",
       "\n",
       "    .dataframe tbody tr th {\n",
       "        vertical-align: top;\n",
       "    }\n",
       "\n",
       "    .dataframe thead th {\n",
       "        text-align: right;\n",
       "    }\n",
       "</style>\n",
       "<table border=\"1\" class=\"dataframe\">\n",
       "  <thead>\n",
       "    <tr style=\"text-align: right;\">\n",
       "      <th></th>\n",
       "      <th>Time</th>\n",
       "    </tr>\n",
       "    <tr>\n",
       "      <th>Training</th>\n",
       "      <th></th>\n",
       "    </tr>\n",
       "  </thead>\n",
       "  <tbody>\n",
       "    <tr>\n",
       "      <th>Trained</th>\n",
       "      <td>5072.966903</td>\n",
       "    </tr>\n",
       "    <tr>\n",
       "      <th>Untrained</th>\n",
       "      <td>5679.804713</td>\n",
       "    </tr>\n",
       "  </tbody>\n",
       "</table>\n",
       "</div>"
      ],
      "text/plain": [
       "                  Time\n",
       "Training              \n",
       "Trained    5072.966903\n",
       "Untrained  5679.804713"
      ]
     },
     "execution_count": 15,
     "metadata": {},
     "output_type": "execute_result"
    }
   ],
   "source": [
    "df[(df[\"Metric\"] == \"Total time\") & (df[\"Technique\"] == \"Melody\")].groupby(\n",
    "    [\"Training\"]\n",
    ").mean()"
   ]
  },
  {
   "cell_type": "markdown",
   "metadata": {},
   "source": [
    "### Melody post-hoc: Skill X Background X Training"
   ]
  },
  {
   "cell_type": "code",
   "execution_count": 16,
   "metadata": {},
   "outputs": [
    {
     "name": "stdout",
     "output_type": "stream",
     "text": [
      "$emmeans\n",
      "background = Music, training = Trained:\n",
      " contrast            estimate   SE   df t.ratio p.value\n",
      " Expert effect         -29.43 9.11 1148  -3.231  0.0019\n",
      " Intermediate effect    -9.96 9.79 1148  -1.018  0.3089\n",
      " Novice effect          39.39 9.45 1148   4.167  0.0001\n",
      "\n",
      "background = No-Music, training = Trained:\n",
      " contrast            estimate   SE   df t.ratio p.value\n",
      " Expert effect          -9.61 9.09 1148  -1.057  0.6376\n",
      " Intermediate effect     2.12 9.77 1148   0.217  0.8286\n",
      " Novice effect           7.49 9.39 1148   0.798  0.6376\n",
      "\n",
      "background = Music, training = Untrained:\n",
      " contrast            estimate   SE   df t.ratio p.value\n",
      " Expert effect           5.28 9.20 1148   0.574  0.8490\n",
      " Intermediate effect    -6.60 9.93 1148  -0.664  0.8490\n",
      " Novice effect           1.31 9.53 1148   0.138  0.8905\n",
      "\n",
      "background = No-Music, training = Untrained:\n",
      " contrast            estimate   SE   df t.ratio p.value\n",
      " Expert effect         -21.99 9.24 1148  -2.381  0.0523\n",
      " Intermediate effect     2.69 9.84 1148   0.273  0.7847\n",
      " Novice effect          19.30 9.43 1148   2.046  0.0615\n",
      "\n",
      "P value adjustment: fdr method for 3 tests \n",
      "\n",
      "$contrasts\n",
      "background = Music, training = Trained:\n",
      " contrast                       estimate    SE   df t.ratio p.value\n",
      " (Expert - Intermediate) effect   26.414 15.02 1148   1.759  0.1184\n",
      " (Expert - Novice) effect        -22.942  5.26 1148  -4.362  <.0001\n",
      " (Intermediate - Novice) effect   -3.472 14.81 1148  -0.235  0.8146\n",
      "\n",
      "background = No-Music, training = Trained:\n",
      " contrast                       estimate    SE   df t.ratio p.value\n",
      " (Expert - Intermediate) effect   -0.324 14.98 1148  -0.022  0.9827\n",
      " (Expert - Novice) effect         -5.701  5.23 1148  -1.090  0.8281\n",
      " (Intermediate - Novice) effect    6.025 14.80 1148   0.407  0.9827\n",
      "\n",
      "background = Music, training = Untrained:\n",
      " contrast                       estimate    SE   df t.ratio p.value\n",
      " (Expert - Intermediate) effect    9.233 15.24 1148   0.606  0.8027\n",
      " (Expert - Novice) effect          1.324  5.30 1148   0.250  0.8027\n",
      " (Intermediate - Novice) effect  -10.557 15.03 1148  -0.702  0.8027\n",
      "\n",
      "background = No-Music, training = Untrained:\n",
      " contrast                       estimate    SE   df t.ratio p.value\n",
      " (Expert - Intermediate) effect    2.845 15.06 1148   0.189  0.8502\n",
      " (Expert - Novice) effect        -13.760  5.29 1148  -2.602  0.0281\n",
      " (Intermediate - Novice) effect   10.915 14.94 1148   0.731  0.6976\n",
      "\n",
      "P value adjustment: fdr method for 3 tests \n",
      "\n"
     ]
    }
   ],
   "source": [
    "%%R\n",
    "contrast(emmeans(lm(adj_time ~ skill * background * training, data=melody_tt_df), pairwise ~ skill | background | training))"
   ]
  },
  {
   "cell_type": "code",
   "execution_count": 17,
   "metadata": {},
   "outputs": [
    {
     "data": {
      "text/html": [
       "<div>\n",
       "<style scoped>\n",
       "    .dataframe tbody tr th:only-of-type {\n",
       "        vertical-align: middle;\n",
       "    }\n",
       "\n",
       "    .dataframe tbody tr th {\n",
       "        vertical-align: top;\n",
       "    }\n",
       "\n",
       "    .dataframe thead th {\n",
       "        text-align: right;\n",
       "    }\n",
       "</style>\n",
       "<table border=\"1\" class=\"dataframe\">\n",
       "  <thead>\n",
       "    <tr style=\"text-align: right;\">\n",
       "      <th></th>\n",
       "      <th></th>\n",
       "      <th>Time</th>\n",
       "    </tr>\n",
       "    <tr>\n",
       "      <th>Skill</th>\n",
       "      <th>Training</th>\n",
       "      <th></th>\n",
       "    </tr>\n",
       "  </thead>\n",
       "  <tbody>\n",
       "    <tr>\n",
       "      <th rowspan=\"2\" valign=\"top\">Expert</th>\n",
       "      <th>Trained</th>\n",
       "      <td>4648.134375</td>\n",
       "    </tr>\n",
       "    <tr>\n",
       "      <th>Untrained</th>\n",
       "      <td>5724.172136</td>\n",
       "    </tr>\n",
       "    <tr>\n",
       "      <th rowspan=\"2\" valign=\"top\">Intermediate</th>\n",
       "      <th>Trained</th>\n",
       "      <td>4992.298810</td>\n",
       "    </tr>\n",
       "    <tr>\n",
       "      <th>Untrained</th>\n",
       "      <td>5563.519753</td>\n",
       "    </tr>\n",
       "    <tr>\n",
       "      <th rowspan=\"2\" valign=\"top\">Novice</th>\n",
       "      <th>Trained</th>\n",
       "      <td>5876.321875</td>\n",
       "    </tr>\n",
       "    <tr>\n",
       "      <th>Untrained</th>\n",
       "      <td>5665.326316</td>\n",
       "    </tr>\n",
       "  </tbody>\n",
       "</table>\n",
       "</div>"
      ],
      "text/plain": [
       "                               Time\n",
       "Skill        Training              \n",
       "Expert       Trained    4648.134375\n",
       "             Untrained  5724.172136\n",
       "Intermediate Trained    4992.298810\n",
       "             Untrained  5563.519753\n",
       "Novice       Trained    5876.321875\n",
       "             Untrained  5665.326316"
      ]
     },
     "execution_count": 17,
     "metadata": {},
     "output_type": "execute_result"
    }
   ],
   "source": [
    "df[\n",
    "    (df[\"Metric\"] == \"Total time\")\n",
    "    & (df[\"Technique\"] == \"Melody\")\n",
    "    & (df[\"Background\"] == \"Music\")\n",
    "].groupby([\"Skill\", \"Training\"]).mean()"
   ]
  },
  {
   "cell_type": "markdown",
   "metadata": {},
   "source": [
    "## Overall time for trained participants"
   ]
  },
  {
   "cell_type": "code",
   "execution_count": 18,
   "metadata": {},
   "outputs": [
    {
     "data": {
      "text/html": [
       "<div>\n",
       "<style scoped>\n",
       "    .dataframe tbody tr th:only-of-type {\n",
       "        vertical-align: middle;\n",
       "    }\n",
       "\n",
       "    .dataframe tbody tr th {\n",
       "        vertical-align: top;\n",
       "    }\n",
       "\n",
       "    .dataframe thead th {\n",
       "        text-align: right;\n",
       "    }\n",
       "</style>\n",
       "<table border=\"1\" class=\"dataframe\">\n",
       "  <thead>\n",
       "    <tr style=\"text-align: right;\">\n",
       "      <th></th>\n",
       "      <th></th>\n",
       "      <th>Time</th>\n",
       "    </tr>\n",
       "    <tr>\n",
       "      <th>Skill</th>\n",
       "      <th>Technique</th>\n",
       "      <th></th>\n",
       "    </tr>\n",
       "  </thead>\n",
       "  <tbody>\n",
       "    <tr>\n",
       "      <th rowspan=\"3\" valign=\"top\">Expert</th>\n",
       "      <th>Interval</th>\n",
       "      <td>4275.735205</td>\n",
       "    </tr>\n",
       "    <tr>\n",
       "      <th>Melody</th>\n",
       "      <td>4732.665201</td>\n",
       "    </tr>\n",
       "    <tr>\n",
       "      <th>Pitch</th>\n",
       "      <td>3653.826786</td>\n",
       "    </tr>\n",
       "    <tr>\n",
       "      <th rowspan=\"3\" valign=\"top\">Intermediate</th>\n",
       "      <th>Interval</th>\n",
       "      <td>4770.284431</td>\n",
       "    </tr>\n",
       "    <tr>\n",
       "      <th>Melody</th>\n",
       "      <td>5008.713095</td>\n",
       "    </tr>\n",
       "    <tr>\n",
       "      <th>Pitch</th>\n",
       "      <td>4819.062275</td>\n",
       "    </tr>\n",
       "    <tr>\n",
       "      <th rowspan=\"3\" valign=\"top\">Novice</th>\n",
       "      <th>Interval</th>\n",
       "      <td>5176.941753</td>\n",
       "    </tr>\n",
       "    <tr>\n",
       "      <th>Melody</th>\n",
       "      <td>5521.535052</td>\n",
       "    </tr>\n",
       "    <tr>\n",
       "      <th>Pitch</th>\n",
       "      <td>4651.605102</td>\n",
       "    </tr>\n",
       "  </tbody>\n",
       "</table>\n",
       "</div>"
      ],
      "text/plain": [
       "                               Time\n",
       "Skill        Technique             \n",
       "Expert       Interval   4275.735205\n",
       "             Melody     4732.665201\n",
       "             Pitch      3653.826786\n",
       "Intermediate Interval   4770.284431\n",
       "             Melody     5008.713095\n",
       "             Pitch      4819.062275\n",
       "Novice       Interval   5176.941753\n",
       "             Melody     5521.535052\n",
       "             Pitch      4651.605102"
      ]
     },
     "execution_count": 18,
     "metadata": {},
     "output_type": "execute_result"
    }
   ],
   "source": [
    "df[(df[\"Metric\"] == \"Total time\") & (df[\"Training\"] == \"Trained\")].groupby(\n",
    "    [\"Skill\", \"Technique\"]\n",
    ").mean()"
   ]
  },
  {
   "cell_type": "code",
   "execution_count": 19,
   "metadata": {},
   "outputs": [
    {
     "data": {
      "text/html": [
       "<div>\n",
       "<style scoped>\n",
       "    .dataframe tbody tr th:only-of-type {\n",
       "        vertical-align: middle;\n",
       "    }\n",
       "\n",
       "    .dataframe tbody tr th {\n",
       "        vertical-align: top;\n",
       "    }\n",
       "\n",
       "    .dataframe thead th {\n",
       "        text-align: right;\n",
       "    }\n",
       "</style>\n",
       "<table border=\"1\" class=\"dataframe\">\n",
       "  <thead>\n",
       "    <tr style=\"text-align: right;\">\n",
       "      <th></th>\n",
       "      <th>Time</th>\n",
       "    </tr>\n",
       "    <tr>\n",
       "      <th>Technique</th>\n",
       "      <th></th>\n",
       "    </tr>\n",
       "  </thead>\n",
       "  <tbody>\n",
       "    <tr>\n",
       "      <th>Interval</th>\n",
       "      <td>4719.569328</td>\n",
       "    </tr>\n",
       "    <tr>\n",
       "      <th>Melody</th>\n",
       "      <td>5072.966903</td>\n",
       "    </tr>\n",
       "    <tr>\n",
       "      <th>Pitch</th>\n",
       "      <td>4318.492675</td>\n",
       "    </tr>\n",
       "  </tbody>\n",
       "</table>\n",
       "</div>"
      ],
      "text/plain": [
       "                  Time\n",
       "Technique             \n",
       "Interval   4719.569328\n",
       "Melody     5072.966903\n",
       "Pitch      4318.492675"
      ]
     },
     "execution_count": 19,
     "metadata": {},
     "output_type": "execute_result"
    }
   ],
   "source": [
    "df[(df[\"Metric\"] == \"Total time\") & (df[\"Training\"] == \"Trained\")].groupby(\n",
    "    [\"Technique\"]\n",
    ").mean()"
   ]
  },
  {
   "cell_type": "markdown",
   "metadata": {},
   "source": [
    "# Sing Time stats"
   ]
  },
  {
   "cell_type": "markdown",
   "metadata": {},
   "source": [
    "## Test for normality"
   ]
  },
  {
   "cell_type": "code",
   "execution_count": 20,
   "metadata": {},
   "outputs": [
    {
     "data": {
      "image/png": "[encoded data removed]"
     },
     "metadata": {},
     "output_type": "display_data"
    },
    {
     "data": {
      "image/png": "[encoded data removed]"
     },
     "metadata": {},
     "output_type": "display_data"
    }
   ],
   "source": [
    "%%R\n",
    "sing_time_df <- subset(df, metric == \"Sing time\")\n",
    "\n",
    "m = aov(time ~ technique*skill, data=sing_time_df)\n",
    "res = residuals(m)\n",
    "qqnorm(res)\n",
    "qqline(res)\n",
    "hist(res)"
   ]
  },
  {
   "cell_type": "markdown",
   "metadata": {},
   "source": [
    "### BoxCox for pitch sing time: .16"
   ]
  },
  {
   "cell_type": "code",
   "execution_count": 21,
   "metadata": {},
   "outputs": [
    {
     "name": "stdout",
     "output_type": "stream",
     "text": [
      "\n",
      "\tShapiro-Wilk normality test\n",
      "\n",
      "data:  resid(lm(time ~ skill, data = pitch_st_df))\n",
      "W = 0.89013, p-value < 2.2e-16\n",
      "\n",
      "\n",
      "\tShapiro-Wilk normality test\n",
      "\n",
      "data:  resid(lm(adj_time ~ skill, data = pitch_st_df))\n",
      "W = 0.99574, p-value = 0.00253\n",
      "\n"
     ]
    }
   ],
   "source": [
    "%%R\n",
    "adj = .16\n",
    "pitch_st_df <- subset(sing_time_df, technique == \"Pitch\")\n",
    "pitch_st_df$adj_time <- (pitch_st_df$time ^ adj - 1) / adj\n",
    "\n",
    "print(shapiro.test(resid(lm(time ~ skill, data = pitch_st_df))))\n",
    "print(shapiro.test(resid(lm(adj_time ~ skill, data = pitch_st_df))))"
   ]
  },
  {
   "cell_type": "markdown",
   "metadata": {},
   "source": [
    "### BoxCox for interval sing time: .31"
   ]
  },
  {
   "cell_type": "code",
   "execution_count": 22,
   "metadata": {},
   "outputs": [
    {
     "name": "stdout",
     "output_type": "stream",
     "text": [
      "\n",
      "\tShapiro-Wilk normality test\n",
      "\n",
      "data:  resid(lm(time ~ skill, data = interval_st_df))\n",
      "W = 0.92284, p-value < 2.2e-16\n",
      "\n",
      "\n",
      "\tShapiro-Wilk normality test\n",
      "\n",
      "data:  resid(lm(adj_time ~ skill, data = interval_st_df))\n",
      "W = 0.99492, p-value = 0.0006027\n",
      "\n"
     ]
    }
   ],
   "source": [
    "%%R\n",
    "adj = .31\n",
    "interval_st_df <- subset(sing_time_df, technique == \"Interval\")\n",
    "interval_st_df$adj_time <- (interval_st_df$time ^ adj - 1) / adj\n",
    "\n",
    "print(shapiro.test(resid(lm(time ~ skill, data = interval_st_df))))\n",
    "print(shapiro.test(resid(lm(adj_time ~ skill, data = interval_st_df))))"
   ]
  },
  {
   "cell_type": "markdown",
   "metadata": {},
   "source": [
    "### BoxCox for melody sing time: .58"
   ]
  },
  {
   "cell_type": "code",
   "execution_count": 23,
   "metadata": {},
   "outputs": [
    {
     "name": "stdout",
     "output_type": "stream",
     "text": [
      "\n",
      "\tShapiro-Wilk normality test\n",
      "\n",
      "data:  resid(lm(time ~ skill, data = melody_st_df))\n",
      "W = 0.96884, p-value = 4.359e-15\n",
      "\n",
      "\n",
      "\tShapiro-Wilk normality test\n",
      "\n",
      "data:  resid(lm(adj_time ~ skill, data = melody_st_df))\n",
      "W = 0.99326, p-value = 4.067e-05\n",
      "\n"
     ]
    }
   ],
   "source": [
    "%%R\n",
    "adj = .58\n",
    "melody_st_df <- subset(sing_time_df, technique == \"Melody\")\n",
    "melody_st_df$adj_time <- (melody_st_df$time ^ adj - 1) / adj\n",
    "\n",
    "print(shapiro.test(resid(lm(time ~ skill, data = melody_st_df))))\n",
    "print(shapiro.test(resid(lm(adj_time ~ skill, data = melody_st_df))))"
   ]
  },
  {
   "cell_type": "markdown",
   "metadata": {},
   "source": [
    "## Pitch: Background X Training X Skill ANOVA"
   ]
  },
  {
   "cell_type": "code",
   "execution_count": 24,
   "metadata": {},
   "outputs": [
    {
     "name": "stdout",
     "output_type": "stream",
     "text": [
      "$ANOVA\n",
      "                     Effect DFn DFd        SSn       SSd         F           p\n",
      "1                     skill   2  18 16.1732926 65.183602 2.2330714 0.136049180\n",
      "2                background   1  18  3.2188928  6.235719 9.2916428 0.006919264\n",
      "4                  training   1  18  1.8673445 15.211958 2.2095908 0.154461340\n",
      "3          skill:background   2  18  0.5429396  6.235719 0.7836236 0.471720750\n",
      "5            skill:training   2  18  3.0856768 15.211958 1.8256093 0.189719275\n",
      "6       background:training   1  18  1.1868223 12.292976 1.7378055 0.203946946\n",
      "7 skill:background:training   2  18  3.0394763 12.292976 2.2252778 0.136901657\n",
      "  p<.05         ges\n",
      "1       0.140518135\n",
      "2     * 0.031513546\n",
      "4       0.018526787\n",
      "3       0.005458479\n",
      "5       0.030248788\n",
      "6       0.011855055\n",
      "7       0.029809387\n",
      "\n"
     ]
    }
   ],
   "source": [
    "%%R\n",
    "suppressWarnings(ezANOVA(\n",
    "    data = pitch_st_df,\n",
    "    dv=.(adj_time),\n",
    "    wid=.(user_id),\n",
    "    within=.(background, training),\n",
    "    between=.(skill),\n",
    "    detailed=TRUE,\n",
    "    type=1\n",
    "))"
   ]
  },
  {
   "cell_type": "markdown",
   "metadata": {},
   "source": [
    "### Pitch post-hoc: Background"
   ]
  },
  {
   "cell_type": "code",
   "execution_count": 25,
   "metadata": {},
   "outputs": [
    {
     "name": "stdout",
     "output_type": "stream",
     "text": [
      "$emmeans\n",
      " contrast           estimate    SE   df t.ratio p.value\n",
      " Music - (No-Music)    0.371 0.143 1159   2.589  0.0098\n",
      "\n",
      "\n",
      "$contrasts\n",
      " contrast  estimate SE df z.ratio p.value\n",
      " (nothing)   nonEst NA NA      NA      NA\n",
      "\n",
      "\n"
     ]
    }
   ],
   "source": [
    "%%R\n",
    "pairs(emmeans(lm(adj_time ~ background, data=pitch_st_df), pairwise ~ background))"
   ]
  },
  {
   "cell_type": "code",
   "execution_count": 26,
   "metadata": {},
   "outputs": [
    {
     "data": {
      "text/html": [
       "<div>\n",
       "<style scoped>\n",
       "    .dataframe tbody tr th:only-of-type {\n",
       "        vertical-align: middle;\n",
       "    }\n",
       "\n",
       "    .dataframe tbody tr th {\n",
       "        vertical-align: top;\n",
       "    }\n",
       "\n",
       "    .dataframe thead th {\n",
       "        text-align: right;\n",
       "    }\n",
       "</style>\n",
       "<table border=\"1\" class=\"dataframe\">\n",
       "  <thead>\n",
       "    <tr style=\"text-align: right;\">\n",
       "      <th></th>\n",
       "      <th>Time</th>\n",
       "    </tr>\n",
       "    <tr>\n",
       "      <th>Background</th>\n",
       "      <th></th>\n",
       "    </tr>\n",
       "  </thead>\n",
       "  <tbody>\n",
       "    <tr>\n",
       "      <th>Music</th>\n",
       "      <td>2647.857392</td>\n",
       "    </tr>\n",
       "    <tr>\n",
       "      <th>No-Music</th>\n",
       "      <td>2407.166426</td>\n",
       "    </tr>\n",
       "  </tbody>\n",
       "</table>\n",
       "</div>"
      ],
      "text/plain": [
       "                   Time\n",
       "Background             \n",
       "Music       2647.857392\n",
       "No-Music    2407.166426"
      ]
     },
     "execution_count": 26,
     "metadata": {},
     "output_type": "execute_result"
    }
   ],
   "source": [
    "df[(df[\"Metric\"] == \"Sing time\") & (df[\"Technique\"] == \"Pitch\")].groupby(\n",
    "    [\"Background\"]\n",
    ").mean()"
   ]
  },
  {
   "cell_type": "markdown",
   "metadata": {},
   "source": [
    "## Interval: Background X Training X Skill ANOVA"
   ]
  },
  {
   "cell_type": "code",
   "execution_count": 27,
   "metadata": {},
   "outputs": [
    {
     "name": "stdout",
     "output_type": "stream",
     "text": [
      "$ANOVA\n",
      "                     Effect DFn DFd        SSn       SSd          F         p\n",
      "1                     skill   2  18 32.8435261 529.78515 0.55794644 0.5819709\n",
      "2                background   1  18  1.7961719 132.82379 0.24341343 0.6277170\n",
      "4                  training   1  18  1.0349054 257.56810 0.07232377 0.7910412\n",
      "3          skill:background   2  18  7.6060314 132.82379 0.51537668 0.6058271\n",
      "5            skill:training   2  18 32.7510031 257.56810 1.14439258 0.3405243\n",
      "6       background:training   1  18  4.1415912  85.21973 0.87478145 0.3620142\n",
      "7 skill:background:training   2  18  0.1273685  85.21973 0.01345130 0.9866487\n",
      "  p<.05          ges\n",
      "1       0.0316338387\n",
      "2       0.0017833444\n",
      "4       0.0010282917\n",
      "3       0.0075084011\n",
      "5       0.0315475349\n",
      "6       0.0041024605\n",
      "7       0.0001266687\n",
      "\n"
     ]
    }
   ],
   "source": [
    "%%R\n",
    "suppressWarnings(ezANOVA(\n",
    "    data = interval_st_df,\n",
    "    dv=.(adj_time),\n",
    "    wid=.(user_id),\n",
    "    within=.(background, training),\n",
    "    between=.(skill),\n",
    "    detailed=TRUE,\n",
    "    type=1\n",
    "))"
   ]
  },
  {
   "cell_type": "markdown",
   "metadata": {},
   "source": [
    "## Melody: Background X Training X Skill ANOVA"
   ]
  },
  {
   "cell_type": "code",
   "execution_count": 28,
   "metadata": {},
   "outputs": [
    {
     "name": "stdout",
     "output_type": "stream",
     "text": [
      "$ANOVA\n",
      "                     Effect DFn DFd        SSn       SSd         F          p\n",
      "1                     skill   2  18 1048.08997 53545.850 0.1761632 0.83990935\n",
      "2                background   1  18  450.27945  7474.946 1.0842927 0.31152433\n",
      "4                  training   1  18 2730.69418  6496.754 7.5657000 0.01315600\n",
      "3          skill:background   2  18  825.79763  7474.946 0.9942785 0.38942116\n",
      "5            skill:training   2  18  602.04675  6496.754 0.8340196 0.45040473\n",
      "6       background:training   1  18   26.13122  4544.241 0.1035073 0.75136682\n",
      "7 skill:background:training   2  18 2358.85799  4544.241 4.6717862 0.02321428\n",
      "  p<.05          ges\n",
      "1       0.0143358180\n",
      "2       0.0062097171\n",
      "4     * 0.0365102742\n",
      "3       0.0113297426\n",
      "5       0.0082853695\n",
      "6       0.0003624909\n",
      "7     * 0.0316962831\n",
      "\n"
     ]
    }
   ],
   "source": [
    "%%R\n",
    "suppressWarnings(ezANOVA(\n",
    "    data = melody_st_df,\n",
    "    dv=.(adj_time),\n",
    "    wid=.(user_id),\n",
    "    within=.(background, training),\n",
    "    between=.(skill),\n",
    "    detailed=TRUE,\n",
    "    type=1\n",
    "))"
   ]
  },
  {
   "cell_type": "markdown",
   "metadata": {},
   "source": [
    "### Melody post-hoc: Training"
   ]
  },
  {
   "cell_type": "code",
   "execution_count": 29,
   "metadata": {},
   "outputs": [
    {
     "name": "stdout",
     "output_type": "stream",
     "text": [
      "$emmeans\n",
      " contrast            estimate   SE   df t.ratio p.value\n",
      " Trained - Untrained    -11.3 3.22 1158  -3.500  0.0005\n",
      "\n",
      "\n",
      "$contrasts\n",
      " contrast  estimate SE df z.ratio p.value\n",
      " (nothing)   nonEst NA NA      NA      NA\n",
      "\n",
      "\n"
     ]
    }
   ],
   "source": [
    "%%R\n",
    "pairs(emmeans(lm(adj_time ~ training, data=melody_st_df), pairwise ~ training))"
   ]
  },
  {
   "cell_type": "code",
   "execution_count": 30,
   "metadata": {},
   "outputs": [
    {
     "data": {
      "text/html": [
       "<div>\n",
       "<style scoped>\n",
       "    .dataframe tbody tr th:only-of-type {\n",
       "        vertical-align: middle;\n",
       "    }\n",
       "\n",
       "    .dataframe tbody tr th {\n",
       "        vertical-align: top;\n",
       "    }\n",
       "\n",
       "    .dataframe thead th {\n",
       "        text-align: right;\n",
       "    }\n",
       "</style>\n",
       "<table border=\"1\" class=\"dataframe\">\n",
       "  <thead>\n",
       "    <tr style=\"text-align: right;\">\n",
       "      <th></th>\n",
       "      <th>Time</th>\n",
       "    </tr>\n",
       "    <tr>\n",
       "      <th>Training</th>\n",
       "      <th></th>\n",
       "    </tr>\n",
       "  </thead>\n",
       "  <tbody>\n",
       "    <tr>\n",
       "      <th>Trained</th>\n",
       "      <td>3456.288319</td>\n",
       "    </tr>\n",
       "    <tr>\n",
       "      <th>Untrained</th>\n",
       "      <td>3861.866080</td>\n",
       "    </tr>\n",
       "  </tbody>\n",
       "</table>\n",
       "</div>"
      ],
      "text/plain": [
       "                  Time\n",
       "Training              \n",
       "Trained    3456.288319\n",
       "Untrained  3861.866080"
      ]
     },
     "execution_count": 30,
     "metadata": {},
     "output_type": "execute_result"
    }
   ],
   "source": [
    "df[(df[\"Metric\"] == \"Sing time\") & (df[\"Technique\"] == \"Melody\")].groupby(\n",
    "    [\"Training\"]\n",
    ").mean()"
   ]
  },
  {
   "cell_type": "markdown",
   "metadata": {},
   "source": [
    "### Melody post-hoc: Skill X Background X Training"
   ]
  },
  {
   "cell_type": "code",
   "execution_count": 31,
   "metadata": {},
   "outputs": [
    {
     "name": "stdout",
     "output_type": "stream",
     "text": [
      "$emmeans\n",
      "background = Music, training = Trained:\n",
      " contrast            estimate   SE   df t.ratio p.value\n",
      " Expert effect        -13.431 4.38 1148  -3.066  0.0033\n",
      " Intermediate effect   -2.871 4.71 1148  -0.610  0.5419\n",
      " Novice effect         16.302 4.55 1148   3.586  0.0010\n",
      "\n",
      "background = No-Music, training = Trained:\n",
      " contrast            estimate   SE   df t.ratio p.value\n",
      " Expert effect         -0.348 4.37 1148  -0.080  0.9366\n",
      " Intermediate effect    1.548 4.70 1148   0.329  0.9366\n",
      " Novice effect         -1.200 4.52 1148  -0.266  0.9366\n",
      "\n",
      "background = Music, training = Untrained:\n",
      " contrast            estimate   SE   df t.ratio p.value\n",
      " Expert effect          7.786 4.43 1148   1.759  0.1182\n",
      " Intermediate effect   -9.251 4.78 1148  -1.937  0.1182\n",
      " Novice effect          1.465 4.58 1148   0.320  0.7494\n",
      "\n",
      "background = No-Music, training = Untrained:\n",
      " contrast            estimate   SE   df t.ratio p.value\n",
      " Expert effect         -7.403 4.44 1148  -1.667  0.2874\n",
      " Intermediate effect    3.806 4.73 1148   0.804  0.4280\n",
      " Novice effect          3.596 4.54 1148   0.793  0.4280\n",
      "\n",
      "P value adjustment: fdr method for 3 tests \n",
      "\n",
      "$contrasts\n",
      "background = Music, training = Trained:\n",
      " contrast                       estimate   SE   df t.ratio p.value\n",
      " (Expert - Intermediate) effect    9.262 7.22 1148   1.283  0.2999\n",
      " (Expert - Novice) effect         -9.911 2.53 1148  -3.919  0.0003\n",
      " (Intermediate - Novice) effect    0.649 7.12 1148   0.091  0.9274\n",
      "\n",
      "background = No-Music, training = Trained:\n",
      " contrast                       estimate   SE   df t.ratio p.value\n",
      " (Expert - Intermediate) effect   -2.464 7.20 1148  -0.342  0.9101\n",
      " (Expert - Novice) effect          0.284 2.52 1148   0.113  0.9101\n",
      " (Intermediate - Novice) effect    2.180 7.11 1148   0.306  0.9101\n",
      "\n",
      "background = Music, training = Untrained:\n",
      " contrast                       estimate   SE   df t.ratio p.value\n",
      " (Expert - Intermediate) effect   12.823 7.33 1148   1.750  0.1205\n",
      " (Expert - Novice) effect          2.107 2.55 1148   0.827  0.4082\n",
      " (Intermediate - Novice) effect  -14.930 7.23 1148  -2.066  0.1173\n",
      "\n",
      "background = No-Music, training = Untrained:\n",
      " contrast                       estimate   SE   df t.ratio p.value\n",
      " (Expert - Intermediate) effect   -3.876 7.24 1148  -0.535  0.5926\n",
      " (Expert - Novice) effect         -3.666 2.54 1148  -1.442  0.4409\n",
      " (Intermediate - Novice) effect    7.542 7.18 1148   1.050  0.4409\n",
      "\n",
      "P value adjustment: fdr method for 3 tests \n",
      "\n"
     ]
    }
   ],
   "source": [
    "%%R\n",
    "contrast(emmeans(lm(adj_time ~ skill * background * training, data=melody_st_df), pairwise ~ skill | background | training))"
   ]
  },
  {
   "cell_type": "code",
   "execution_count": 32,
   "metadata": {},
   "outputs": [
    {
     "data": {
      "text/html": [
       "<div>\n",
       "<style scoped>\n",
       "    .dataframe tbody tr th:only-of-type {\n",
       "        vertical-align: middle;\n",
       "    }\n",
       "\n",
       "    .dataframe tbody tr th {\n",
       "        vertical-align: top;\n",
       "    }\n",
       "\n",
       "    .dataframe thead th {\n",
       "        text-align: right;\n",
       "    }\n",
       "</style>\n",
       "<table border=\"1\" class=\"dataframe\">\n",
       "  <thead>\n",
       "    <tr style=\"text-align: right;\">\n",
       "      <th></th>\n",
       "      <th></th>\n",
       "      <th>Time</th>\n",
       "    </tr>\n",
       "    <tr>\n",
       "      <th>Skill</th>\n",
       "      <th>Training</th>\n",
       "      <th></th>\n",
       "    </tr>\n",
       "  </thead>\n",
       "  <tbody>\n",
       "    <tr>\n",
       "      <th rowspan=\"2\" valign=\"top\">Expert</th>\n",
       "      <th>Trained</th>\n",
       "      <td>3111.799777</td>\n",
       "    </tr>\n",
       "    <tr>\n",
       "      <th>Untrained</th>\n",
       "      <td>4094.470909</td>\n",
       "    </tr>\n",
       "    <tr>\n",
       "      <th rowspan=\"2\" valign=\"top\">Intermediate</th>\n",
       "      <th>Trained</th>\n",
       "      <td>3460.728571</td>\n",
       "    </tr>\n",
       "    <tr>\n",
       "      <th>Untrained</th>\n",
       "      <td>3600.696296</td>\n",
       "    </tr>\n",
       "    <tr>\n",
       "      <th rowspan=\"2\" valign=\"top\">Novice</th>\n",
       "      <th>Trained</th>\n",
       "      <td>4123.960417</td>\n",
       "    </tr>\n",
       "    <tr>\n",
       "      <th>Untrained</th>\n",
       "      <td>3935.250526</td>\n",
       "    </tr>\n",
       "  </tbody>\n",
       "</table>\n",
       "</div>"
      ],
      "text/plain": [
       "                               Time\n",
       "Skill        Training              \n",
       "Expert       Trained    3111.799777\n",
       "             Untrained  4094.470909\n",
       "Intermediate Trained    3460.728571\n",
       "             Untrained  3600.696296\n",
       "Novice       Trained    4123.960417\n",
       "             Untrained  3935.250526"
      ]
     },
     "execution_count": 32,
     "metadata": {},
     "output_type": "execute_result"
    }
   ],
   "source": [
    "df[\n",
    "    (df[\"Metric\"] == \"Sing time\")\n",
    "    & (df[\"Technique\"] == \"Melody\")\n",
    "    & (df[\"Background\"] == \"Music\")\n",
    "].groupby([\"Skill\", \"Training\"]).mean()"
   ]
  },
  {
   "cell_type": "markdown",
   "metadata": {},
   "source": [
    "# Overall time"
   ]
  },
  {
   "cell_type": "code",
   "execution_count": 33,
   "metadata": {},
   "outputs": [
    {
     "data": {
      "image/png": "[encoded data removed]",
      "text/plain": [
       "<Figure size 432x288 with 3 Axes>"
      ]
     },
     "metadata": {},
     "output_type": "display_data"
    },
    {
     "data": {
      "image/png": "[encoded data removed]",
      "text/plain": [
       "<Figure size 432x288 with 3 Axes>"
      ]
     },
     "metadata": {},
     "output_type": "display_data"
    },
    {
     "data": {
      "image/png": "[encoded data removed]",
      "text/plain": [
       "<Figure size 432x288 with 3 Axes>"
      ]
     },
     "metadata": {},
     "output_type": "display_data"
    }
   ],
   "source": [
    "from utils.factorize import factorize_xticks, wrap_factor\n",
    "\n",
    "skills = [\"Novice\", \"Intermediate\", \"Expert\"]\n",
    "techniques = [\"Pitch\", \"Interval\", \"Melody\"]\n",
    "\n",
    "for technique in techniques:\n",
    "    fig = plt.figure(6)\n",
    "    fig.set_figwidth(6)\n",
    "    fig.set_figheight(4)\n",
    "    gs = fig.add_gridspec(ncols=3, nrows=1, wspace=0.1)\n",
    "    for col, classification in enumerate(skills):\n",
    "        ax = fig.add_subplot(gs[0, col])\n",
    "        for metric, palette in [(\"Total time\", None), (\"Sing time\", light_palette)]:\n",
    "            curr_df = pd.DataFrame(\n",
    "                df[\n",
    "                    (df[\"Technique\"] == technique)\n",
    "                    & (df[\"Skill\"] == classification)\n",
    "                    & (df[\"Metric\"] == metric)\n",
    "                ]\n",
    "            )\n",
    "\n",
    "            sns.barplot(\n",
    "                data=curr_df,\n",
    "                x=\"Training\",\n",
    "                order=[\"Untrained\", \"Trained\"],\n",
    "                y=\"Time\",\n",
    "                hue=\"Background\",\n",
    "                ci=95,\n",
    "                n_boot=10000,\n",
    "                ax=ax,\n",
    "                #                 capsize=0.1,\n",
    "                palette=palette,\n",
    "            )\n",
    "\n",
    "        ax.set_ylim(ymin=0, ymax=8500)\n",
    "        ax.set_xlabel(wrap_factor(skills[col]))\n",
    "\n",
    "        factorize_xticks(ax)\n",
    "\n",
    "        if col != 2:\n",
    "            ax.get_legend().set_visible(False)\n",
    "        if col > 0:\n",
    "            ax.set_yticklabels([])\n",
    "            ax.set_ylabel(None)\n",
    "        if col == 0:\n",
    "            ax.set_ylabel(\"Time (ms)\")\n",
    "        if col == 2:\n",
    "            for idx, text in enumerate(ax.legend().get_texts()):\n",
    "                metric = \"Total time\" if idx < 2 else \"Sing time\"\n",
    "\n",
    "                text.set_text(metric + r\" \" + wrap_factor(text.get_text()))\n",
    "\n",
    "        # Remove spines\n",
    "        ax.spines[\"right\"].set_visible(False)\n",
    "        ax.spines[\"top\"].set_visible(False)\n",
    "        if col != 0:\n",
    "            ax.spines[\"left\"].set_visible(False)\n",
    "\n",
    "        # Reduce tick label size for x axis\n",
    "        ax.xaxis.set_ticklabels(ax.xaxis.get_ticklabels(), fontsize=9)\n",
    "\n",
    "    plt.show()"
   ]
  }
 ],
 "metadata": {
  "kernelspec": {
   "display_name": "Python 3 (ipykernel)",
   "language": "python",
   "name": "python3"
  },
  "language_info": {
   "codemirror_mode": {
    "name": "ipython",
    "version": 3
   },
   "file_extension": ".py",
   "mimetype": "text/x-python",
   "name": "python",
   "nbconvert_exporter": "python",
   "pygments_lexer": "ipython3",
   "version": "3.9.10"
  }
 },
 "nbformat": 4,
 "nbformat_minor": 4
}
